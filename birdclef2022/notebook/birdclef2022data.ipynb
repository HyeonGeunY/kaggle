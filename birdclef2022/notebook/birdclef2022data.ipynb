{
 "cells": [
  {
   "cell_type": "code",
   "execution_count": 90,
   "metadata": {
    "vscode": {
     "languageId": "python"
    }
   },
   "outputs": [
    {
     "name": "stdout",
     "output_type": "stream",
     "text": [
      "/home/skang/Documents/kaggle/bird_clef/notebook\n"
     ]
    },
    {
     "data": {
      "text/plain": [
       "'/home/skang/Documents/kaggle/bird_clef/notebook'"
      ]
     },
     "execution_count": 90,
     "metadata": {},
     "output_type": "execute_result"
    }
   ],
   "source": [
    "%cd /home/skang/Documents/kaggle/bird_clef/notebook\n",
    "%pwd"
   ]
  },
  {
   "cell_type": "code",
   "execution_count": 2,
   "metadata": {
    "vscode": {
     "languageId": "python"
    }
   },
   "outputs": [
    {
     "name": "stderr",
     "output_type": "stream",
     "text": [
      "/home/skang/.local/share/virtualenvs/kaggle-FCKdAziW/lib/python3.8/site-packages/tqdm/auto.py:22: TqdmWarning: IProgress not found. Please update jupyter and ipywidgets. See https://ipywidgets.readthedocs.io/en/stable/user_install.html\n",
      "  from .autonotebook import tqdm as notebook_tqdm\n"
     ]
    }
   ],
   "source": [
    "import os\n",
    "import json\n",
    "import tqdm\n",
    "import random\n",
    "import shutil\n",
    "import pandas as pd\n",
    "import numpy as np\n",
    "import torch\n",
    "import torch.optim as optim\n",
    "import torch.nn as nn\n",
    "from torch.utils.data import DataLoader\n",
    "import torchaudio\n",
    "import torchaudio.transforms as T\n",
    "import seaborn as sns\n",
    "import matplotlib.pyplot as plt"
   ]
  },
  {
   "cell_type": "markdown",
   "metadata": {},
   "source": [
    "# Make filepath"
   ]
  },
  {
   "cell_type": "code",
   "execution_count": 51,
   "metadata": {
    "vscode": {
     "languageId": "python"
    }
   },
   "outputs": [],
   "source": [
    "root_path = \"../input/birdclef-2022/\"\n",
    "input_path = root_path + '/train_audio/'\n",
    "out_path = \"./train/\"\n",
    "\n",
    "meta_df = pd.read_csv(root_path + 'train_metadata.csv')\n",
    "bird_label = list(meta_df[\"primary_label\"].unique())\n"
   ]
  },
  {
   "cell_type": "code",
   "execution_count": 52,
   "metadata": {
    "vscode": {
     "languageId": "python"
    }
   },
   "outputs": [],
   "source": [
    "meta_df['filepath'] = input_path + \"/\" + meta_df['filename']"
   ]
  },
  {
   "cell_type": "code",
   "execution_count": 26,
   "metadata": {
    "vscode": {
     "languageId": "python"
    }
   },
   "outputs": [],
   "source": [
    "d = {filename: str('test') + \"/\" + filename for filename in meta_df.filename}"
   ]
  },
  {
   "cell_type": "markdown",
   "metadata": {},
   "source": [
    "# make essential (label, sample_rate)"
   ]
  },
  {
   "cell_type": "code",
   "execution_count": 5,
   "metadata": {
    "vscode": {
     "languageId": "python"
    }
   },
   "outputs": [],
   "source": [
    "bird_label = list(meta_df['primary_label'].unique())\n",
    "essentials= {\"birds\": bird_label, \"sample_rate\": 32000}\n",
    "with open(\"test.json\", \"w\") as f:\n",
    "    json.dump(essentials, f)"
   ]
  },
  {
   "cell_type": "code",
   "execution_count": 6,
   "metadata": {
    "vscode": {
     "languageId": "python"
    }
   },
   "outputs": [],
   "source": [
    "with open(\"test.json\") as f:\n",
    "    essentials = json.load(f)\n",
    "\n",
    "mapping = list(essentials['birds'])"
   ]
  },
  {
   "cell_type": "code",
   "execution_count": 7,
   "metadata": {
    "vscode": {
     "languageId": "python"
    }
   },
   "outputs": [
    {
     "data": {
      "text/plain": [
       "['afrsil1',\n",
       " 'akekee',\n",
       " 'akepa1',\n",
       " 'akiapo',\n",
       " 'akikik',\n",
       " 'amewig',\n",
       " 'aniani',\n",
       " 'apapan',\n",
       " 'arcter',\n",
       " 'barpet',\n",
       " 'bcnher',\n",
       " 'belkin1',\n",
       " 'bkbplo',\n",
       " 'bknsti',\n",
       " 'bkwpet',\n",
       " 'blkfra',\n",
       " 'blknod',\n",
       " 'bongul',\n",
       " 'brant',\n",
       " 'brnboo',\n",
       " 'brnnod',\n",
       " 'brnowl',\n",
       " 'brtcur',\n",
       " 'bubsan',\n",
       " 'buffle',\n",
       " 'bulpet',\n",
       " 'burpar',\n",
       " 'buwtea',\n",
       " 'cacgoo1',\n",
       " 'calqua',\n",
       " 'cangoo',\n",
       " 'canvas',\n",
       " 'caster1',\n",
       " 'categr',\n",
       " 'chbsan',\n",
       " 'chemun',\n",
       " 'chukar',\n",
       " 'cintea',\n",
       " 'comgal1',\n",
       " 'commyn',\n",
       " 'compea',\n",
       " 'comsan',\n",
       " 'comwax',\n",
       " 'coopet',\n",
       " 'crehon',\n",
       " 'dunlin',\n",
       " 'elepai',\n",
       " 'ercfra',\n",
       " 'eurwig',\n",
       " 'fragul',\n",
       " 'gadwal',\n",
       " 'gamqua',\n",
       " 'glwgul',\n",
       " 'gnwtea',\n",
       " 'golphe',\n",
       " 'grbher3',\n",
       " 'grefri',\n",
       " 'gresca',\n",
       " 'gryfra',\n",
       " 'gwfgoo',\n",
       " 'hawama',\n",
       " 'hawcoo',\n",
       " 'hawcre',\n",
       " 'hawgoo',\n",
       " 'hawhaw',\n",
       " 'hawpet1',\n",
       " 'hoomer',\n",
       " 'houfin',\n",
       " 'houspa',\n",
       " 'hudgod',\n",
       " 'iiwi',\n",
       " 'incter1',\n",
       " 'jabwar',\n",
       " 'japqua',\n",
       " 'kalphe',\n",
       " 'kauama',\n",
       " 'laugul',\n",
       " 'layalb',\n",
       " 'lcspet',\n",
       " 'leasan',\n",
       " 'leater1',\n",
       " 'lessca',\n",
       " 'lesyel',\n",
       " 'lobdow',\n",
       " 'lotjae',\n",
       " 'madpet',\n",
       " 'magpet1',\n",
       " 'mallar3',\n",
       " 'masboo',\n",
       " 'mauala',\n",
       " 'maupar',\n",
       " 'merlin',\n",
       " 'mitpar',\n",
       " 'moudov',\n",
       " 'norcar',\n",
       " 'norhar2',\n",
       " 'normoc',\n",
       " 'norpin',\n",
       " 'norsho',\n",
       " 'nutman',\n",
       " 'oahama',\n",
       " 'omao',\n",
       " 'osprey',\n",
       " 'pagplo',\n",
       " 'palila',\n",
       " 'parjae',\n",
       " 'pecsan',\n",
       " 'peflov',\n",
       " 'perfal',\n",
       " 'pibgre',\n",
       " 'pomjae',\n",
       " 'puaioh',\n",
       " 'reccar',\n",
       " 'redava',\n",
       " 'redjun',\n",
       " 'redpha1',\n",
       " 'refboo',\n",
       " 'rempar',\n",
       " 'rettro',\n",
       " 'ribgul',\n",
       " 'rinduc',\n",
       " 'rinphe',\n",
       " 'rocpig',\n",
       " 'rorpar',\n",
       " 'rudtur',\n",
       " 'ruff',\n",
       " 'saffin',\n",
       " 'sander',\n",
       " 'semplo',\n",
       " 'sheowl',\n",
       " 'shtsan',\n",
       " 'skylar',\n",
       " 'snogoo',\n",
       " 'sooshe',\n",
       " 'sooter1',\n",
       " 'sopsku1',\n",
       " 'sora',\n",
       " 'spodov',\n",
       " 'sposan',\n",
       " 'towsol',\n",
       " 'wantat1',\n",
       " 'warwhe1',\n",
       " 'wesmea',\n",
       " 'wessan',\n",
       " 'wetshe',\n",
       " 'whfibi',\n",
       " 'whiter',\n",
       " 'whttro',\n",
       " 'wiltur',\n",
       " 'yebcar',\n",
       " 'yefcan',\n",
       " 'zebdov']"
      ]
     },
     "execution_count": 7,
     "metadata": {},
     "output_type": "execute_result"
    }
   ],
   "source": [
    "mapping"
   ]
  },
  {
   "cell_type": "code",
   "execution_count": 8,
   "metadata": {
    "vscode": {
     "languageId": "python"
    }
   },
   "outputs": [],
   "source": [
    "inverse_mapping = {v: k for k, v in enumerate(mapping)}"
   ]
  },
  {
   "cell_type": "code",
   "execution_count": 9,
   "metadata": {
    "vscode": {
     "languageId": "python"
    }
   },
   "outputs": [
    {
     "data": {
      "text/plain": [
       "{'afrsil1': 0,\n",
       " 'akekee': 1,\n",
       " 'akepa1': 2,\n",
       " 'akiapo': 3,\n",
       " 'akikik': 4,\n",
       " 'amewig': 5,\n",
       " 'aniani': 6,\n",
       " 'apapan': 7,\n",
       " 'arcter': 8,\n",
       " 'barpet': 9,\n",
       " 'bcnher': 10,\n",
       " 'belkin1': 11,\n",
       " 'bkbplo': 12,\n",
       " 'bknsti': 13,\n",
       " 'bkwpet': 14,\n",
       " 'blkfra': 15,\n",
       " 'blknod': 16,\n",
       " 'bongul': 17,\n",
       " 'brant': 18,\n",
       " 'brnboo': 19,\n",
       " 'brnnod': 20,\n",
       " 'brnowl': 21,\n",
       " 'brtcur': 22,\n",
       " 'bubsan': 23,\n",
       " 'buffle': 24,\n",
       " 'bulpet': 25,\n",
       " 'burpar': 26,\n",
       " 'buwtea': 27,\n",
       " 'cacgoo1': 28,\n",
       " 'calqua': 29,\n",
       " 'cangoo': 30,\n",
       " 'canvas': 31,\n",
       " 'caster1': 32,\n",
       " 'categr': 33,\n",
       " 'chbsan': 34,\n",
       " 'chemun': 35,\n",
       " 'chukar': 36,\n",
       " 'cintea': 37,\n",
       " 'comgal1': 38,\n",
       " 'commyn': 39,\n",
       " 'compea': 40,\n",
       " 'comsan': 41,\n",
       " 'comwax': 42,\n",
       " 'coopet': 43,\n",
       " 'crehon': 44,\n",
       " 'dunlin': 45,\n",
       " 'elepai': 46,\n",
       " 'ercfra': 47,\n",
       " 'eurwig': 48,\n",
       " 'fragul': 49,\n",
       " 'gadwal': 50,\n",
       " 'gamqua': 51,\n",
       " 'glwgul': 52,\n",
       " 'gnwtea': 53,\n",
       " 'golphe': 54,\n",
       " 'grbher3': 55,\n",
       " 'grefri': 56,\n",
       " 'gresca': 57,\n",
       " 'gryfra': 58,\n",
       " 'gwfgoo': 59,\n",
       " 'hawama': 60,\n",
       " 'hawcoo': 61,\n",
       " 'hawcre': 62,\n",
       " 'hawgoo': 63,\n",
       " 'hawhaw': 64,\n",
       " 'hawpet1': 65,\n",
       " 'hoomer': 66,\n",
       " 'houfin': 67,\n",
       " 'houspa': 68,\n",
       " 'hudgod': 69,\n",
       " 'iiwi': 70,\n",
       " 'incter1': 71,\n",
       " 'jabwar': 72,\n",
       " 'japqua': 73,\n",
       " 'kalphe': 74,\n",
       " 'kauama': 75,\n",
       " 'laugul': 76,\n",
       " 'layalb': 77,\n",
       " 'lcspet': 78,\n",
       " 'leasan': 79,\n",
       " 'leater1': 80,\n",
       " 'lessca': 81,\n",
       " 'lesyel': 82,\n",
       " 'lobdow': 83,\n",
       " 'lotjae': 84,\n",
       " 'madpet': 85,\n",
       " 'magpet1': 86,\n",
       " 'mallar3': 87,\n",
       " 'masboo': 88,\n",
       " 'mauala': 89,\n",
       " 'maupar': 90,\n",
       " 'merlin': 91,\n",
       " 'mitpar': 92,\n",
       " 'moudov': 93,\n",
       " 'norcar': 94,\n",
       " 'norhar2': 95,\n",
       " 'normoc': 96,\n",
       " 'norpin': 97,\n",
       " 'norsho': 98,\n",
       " 'nutman': 99,\n",
       " 'oahama': 100,\n",
       " 'omao': 101,\n",
       " 'osprey': 102,\n",
       " 'pagplo': 103,\n",
       " 'palila': 104,\n",
       " 'parjae': 105,\n",
       " 'pecsan': 106,\n",
       " 'peflov': 107,\n",
       " 'perfal': 108,\n",
       " 'pibgre': 109,\n",
       " 'pomjae': 110,\n",
       " 'puaioh': 111,\n",
       " 'reccar': 112,\n",
       " 'redava': 113,\n",
       " 'redjun': 114,\n",
       " 'redpha1': 115,\n",
       " 'refboo': 116,\n",
       " 'rempar': 117,\n",
       " 'rettro': 118,\n",
       " 'ribgul': 119,\n",
       " 'rinduc': 120,\n",
       " 'rinphe': 121,\n",
       " 'rocpig': 122,\n",
       " 'rorpar': 123,\n",
       " 'rudtur': 124,\n",
       " 'ruff': 125,\n",
       " 'saffin': 126,\n",
       " 'sander': 127,\n",
       " 'semplo': 128,\n",
       " 'sheowl': 129,\n",
       " 'shtsan': 130,\n",
       " 'skylar': 131,\n",
       " 'snogoo': 132,\n",
       " 'sooshe': 133,\n",
       " 'sooter1': 134,\n",
       " 'sopsku1': 135,\n",
       " 'sora': 136,\n",
       " 'spodov': 137,\n",
       " 'sposan': 138,\n",
       " 'towsol': 139,\n",
       " 'wantat1': 140,\n",
       " 'warwhe1': 141,\n",
       " 'wesmea': 142,\n",
       " 'wessan': 143,\n",
       " 'wetshe': 144,\n",
       " 'whfibi': 145,\n",
       " 'whiter': 146,\n",
       " 'whttro': 147,\n",
       " 'wiltur': 148,\n",
       " 'yebcar': 149,\n",
       " 'yefcan': 150,\n",
       " 'zebdov': 151}"
      ]
     },
     "execution_count": 9,
     "metadata": {},
     "output_type": "execute_result"
    }
   ],
   "source": [
    "inverse_mapping"
   ]
  },
  {
   "cell_type": "markdown",
   "metadata": {},
   "source": [
    "# split train, test audio"
   ]
  },
  {
   "cell_type": "code",
   "execution_count": 10,
   "metadata": {
    "vscode": {
     "languageId": "python"
    }
   },
   "outputs": [],
   "source": [
    "from importlib.util import find_spec\n",
    "if find_spec(\"bridclef\") is None:\n",
    "    import sys\n",
    "    sys.path.append('..')\n",
    "    \n",
    "from birdclef.util import get_split_by_bird\n",
    "meta_train, meta_test = get_split_by_bird(meta_df)"
   ]
  },
  {
   "cell_type": "code",
   "execution_count": 55,
   "metadata": {
    "vscode": {
     "languageId": "python"
    }
   },
   "outputs": [],
   "source": [
    "traintest_filename = {\"trainval\": list(meta_train.filename), \"test\": list(meta_test.filename)}\n",
    "\n",
    "with open(\"/home/skang/Documents/kaggle/bird_clef/input/birdclef-2022/traintest_filename.json\", \"w\") as f:\n",
    "    json.dump(traintest_filename, f)"
   ]
  },
  {
   "cell_type": "code",
   "execution_count": 11,
   "metadata": {
    "vscode": {
     "languageId": "python"
    }
   },
   "outputs": [],
   "source": [
    "from birdclef.util import copy_split_audio"
   ]
  },
  {
   "cell_type": "code",
   "execution_count": 15,
   "metadata": {
    "vscode": {
     "languageId": "python"
    }
   },
   "outputs": [],
   "source": [
    "root_dir = \"/home/skang/Documents/kaggle/bird_clef/input/birdclef-2022\"\n",
    "for meta, stage in zip([meta_train, meta_test], [\"trainval\", \"test\"]):\n",
    "    copy_split_audio(meta, root_dir=root_dir, stage=stage)"
   ]
  },
  {
   "cell_type": "code",
   "execution_count": 56,
   "metadata": {
    "vscode": {
     "languageId": "python"
    }
   },
   "outputs": [],
   "source": [
    "with open(\"/home/skang/Documents/kaggle/bird_clef/input/birdclef-2022/traintest_filename.json\") as f:\n",
    "    split_names = json.load(f)"
   ]
  },
  {
   "cell_type": "code",
   "execution_count": 59,
   "metadata": {
    "vscode": {
     "languageId": "python"
    }
   },
   "outputs": [
    {
     "data": {
      "text/plain": [
       "11881"
      ]
     },
     "execution_count": 59,
     "metadata": {},
     "output_type": "execute_result"
    }
   ],
   "source": [
    "len(list(meta_train.filename))"
   ]
  },
  {
   "cell_type": "code",
   "execution_count": 57,
   "metadata": {
    "vscode": {
     "languageId": "python"
    }
   },
   "outputs": [
    {
     "data": {
      "text/plain": [
       "11881"
      ]
     },
     "execution_count": 57,
     "metadata": {},
     "output_type": "execute_result"
    }
   ],
   "source": [
    "len(meta_train)"
   ]
  },
  {
   "cell_type": "code",
   "execution_count": 47,
   "metadata": {
    "vscode": {
     "languageId": "python"
    }
   },
   "outputs": [
    {
     "data": {
      "text/plain": [
       "2971"
      ]
     },
     "execution_count": 47,
     "metadata": {},
     "output_type": "execute_result"
    }
   ],
   "source": [
    "len(meta_test)"
   ]
  },
  {
   "cell_type": "code",
   "execution_count": 69,
   "metadata": {
    "vscode": {
     "languageId": "python"
    }
   },
   "outputs": [
    {
     "data": {
      "text/plain": [
       "brnowl     500\n",
       "skylar     500\n",
       "norcar     500\n",
       "mallar3    500\n",
       "houspa     500\n",
       "          ... \n",
       "puaioh       3\n",
       "layalb       3\n",
       "akikik       2\n",
       "crehon       2\n",
       "maupar       1\n",
       "Name: primary_label, Length: 152, dtype: int64"
      ]
     },
     "execution_count": 69,
     "metadata": {},
     "output_type": "execute_result"
    }
   ],
   "source": [
    "meta_df.primary_label.value_counts()"
   ]
  },
  {
   "cell_type": "code",
   "execution_count": 75,
   "metadata": {
    "vscode": {
     "languageId": "python"
    }
   },
   "outputs": [
    {
     "data": {
      "text/plain": [
       "skylar     401\n",
       "mallar3    400\n",
       "comsan     400\n",
       "norcar     400\n",
       "brnowl     400\n",
       "          ... \n",
       "bkwpet       2\n",
       "akikik       2\n",
       "layalb       2\n",
       "hawhaw       2\n",
       "shtsan       1\n",
       "Name: primary_label, Length: 152, dtype: int64"
      ]
     },
     "execution_count": 75,
     "metadata": {},
     "output_type": "execute_result"
    }
   ],
   "source": [
    "meta_train.primary_label.value_counts()"
   ]
  },
  {
   "cell_type": "code",
   "execution_count": 66,
   "metadata": {
    "vscode": {
     "languageId": "python"
    }
   },
   "outputs": [],
   "source": [
    "for i in meta_train.filename:\n",
    "    if i not in list(meta_df[meta_df.filename.isin(split_names['trainval'])].filename):\n",
    "        print(i)"
   ]
  },
  {
   "cell_type": "code",
   "execution_count": 74,
   "metadata": {
    "vscode": {
     "languageId": "python"
    }
   },
   "outputs": [
    {
     "data": {
      "text/plain": [
       "2971"
      ]
     },
     "execution_count": 74,
     "metadata": {},
     "output_type": "execute_result"
    }
   ],
   "source": [
    "len(meta_df[meta_df.filename.isin(split_names['test'])])"
   ]
  },
  {
   "cell_type": "markdown",
   "metadata": {},
   "source": [
    "# CNN output size"
   ]
  },
  {
   "cell_type": "code",
   "execution_count": 1,
   "metadata": {
    "vscode": {
     "languageId": "python"
    }
   },
   "outputs": [],
   "source": [
    "%load_ext autoreload\n",
    "%autoreload 2"
   ]
  },
  {
   "cell_type": "code",
   "execution_count": 2,
   "metadata": {
    "vscode": {
     "languageId": "python"
    }
   },
   "outputs": [],
   "source": [
    "def add_importpath(package_name: str):\n",
    "    from importlib.util import find_spec\n",
    "    if find_spec(package_name) is None:\n",
    "        import sys\n",
    "        sys.path.append('..')"
   ]
  },
  {
   "cell_type": "code",
   "execution_count": 3,
   "metadata": {
    "vscode": {
     "languageId": "python"
    }
   },
   "outputs": [],
   "source": [
    "add_importpath(\"birdclef\")"
   ]
  },
  {
   "cell_type": "code",
   "execution_count": 4,
   "metadata": {
    "vscode": {
     "languageId": "python"
    }
   },
   "outputs": [
    {
     "name": "stderr",
     "output_type": "stream",
     "text": [
      "/home/skang/.local/share/virtualenvs/kaggle-FCKdAziW/lib/python3.8/site-packages/tqdm/auto.py:22: TqdmWarning: IProgress not found. Please update jupyter and ipywidgets. See https://ipywidgets.readthedocs.io/en/stable/user_install.html\n",
      "  from .autonotebook import tqdm as notebook_tqdm\n"
     ]
    }
   ],
   "source": [
    "from birdclef.util import get_output_size_of_cnn"
   ]
  },
  {
   "cell_type": "code",
   "execution_count": 5,
   "metadata": {
    "vscode": {
     "languageId": "python"
    }
   },
   "outputs": [
    {
     "data": {
      "text/plain": [
       "(256, 313)"
      ]
     },
     "execution_count": 5,
     "metadata": {},
     "output_type": "execute_result"
    }
   ],
   "source": [
    "h_in = 256\n",
    "w_in = 313\n",
    "kernel_size = [3, 3]\n",
    "padding = [1, 1]\n",
    "stride = [1, 1]\n",
    "pool = 0\n",
    "get_output_size_of_cnn(h_in, w_in, kernel_size, stride, padding)"
   ]
  },
  {
   "cell_type": "markdown",
   "metadata": {},
   "source": [
    "# Loss"
   ]
  },
  {
   "cell_type": "code",
   "execution_count": 1,
   "metadata": {
    "vscode": {
     "languageId": "python"
    }
   },
   "outputs": [],
   "source": [
    "import torch"
   ]
  },
  {
   "cell_type": "code",
   "execution_count": 9,
   "metadata": {
    "vscode": {
     "languageId": "python"
    }
   },
   "outputs": [],
   "source": [
    "LOSS = \"BCEWithLogitsLoss\"\n",
    "\n",
    "test = getattr(torch.nn, LOSS)"
   ]
  },
  {
   "cell_type": "markdown",
   "metadata": {},
   "source": [
    "test()"
   ]
  },
  {
   "cell_type": "code",
   "execution_count": 2,
   "metadata": {
    "vscode": {
     "languageId": "python"
    }
   },
   "outputs": [],
   "source": [
    "t = torch.rand(2,3)"
   ]
  },
  {
   "cell_type": "code",
   "execution_count": 13,
   "metadata": {
    "vscode": {
     "languageId": "python"
    }
   },
   "outputs": [
    {
     "data": {
      "text/plain": [
       "tensor([False, False,  True])"
      ]
     },
     "execution_count": 13,
     "metadata": {},
     "output_type": "execute_result"
    }
   ],
   "source": [
    "t[0] > 0.8"
   ]
  },
  {
   "cell_type": "code",
   "execution_count": 14,
   "metadata": {
    "vscode": {
     "languageId": "python"
    }
   },
   "outputs": [
    {
     "data": {
      "text/plain": [
       "'aa, bb, cc'"
      ]
     },
     "execution_count": 14,
     "metadata": {},
     "output_type": "execute_result"
    }
   ],
   "source": [
    "\", \".join([\"aa\", \"bb\", \"cc\"])"
   ]
  },
  {
   "cell_type": "code",
   "execution_count": 16,
   "metadata": {
    "vscode": {
     "languageId": "python"
    }
   },
   "outputs": [],
   "source": [
    "import json"
   ]
  },
  {
   "cell_type": "code",
   "execution_count": 17,
   "metadata": {
    "vscode": {
     "languageId": "python"
    }
   },
   "outputs": [],
   "source": [
    "with open(\"/home/skang/Documents/kaggle/birdclef2022/input/processed/birdclef2022/birdclef2022.json\") as f:\n",
    "    essentials = json.load(f)\n",
    "\n",
    "mapping = list(essentials['birds'])"
   ]
  },
  {
   "cell_type": "code",
   "execution_count": 20,
   "metadata": {
    "vscode": {
     "languageId": "python"
    }
   },
   "outputs": [],
   "source": [
    "a = [0] * len(mapping)"
   ]
  },
  {
   "cell_type": "code",
   "execution_count": 29,
   "metadata": {
    "vscode": {
     "languageId": "python"
    }
   },
   "outputs": [
    {
     "data": {
      "text/plain": [
       "'afrsil1, akiapo'"
      ]
     },
     "execution_count": 29,
     "metadata": {},
     "output_type": "execute_result"
    }
   ],
   "source": [
    "\", \".join([mapping[i] for i in range(len(mapping)) if a[i] == True])"
   ]
  },
  {
   "cell_type": "code",
   "execution_count": 35,
   "metadata": {
    "vscode": {
     "languageId": "python"
    }
   },
   "outputs": [],
   "source": [
    "def _audio_to_mel_label(\n",
    "    filepath,\n",
    "    min_sec_proc,\n",
    "    sample_rate,\n",
    "    mel_converter,\n",
    "    stage=\"trainval\",\n",
    "    data_index=0,\n",
    "    label_list=[],\n",
    "    bird_label=[],\n",
    "    label_file=[],\n",
    "):\n",
    "    \"\"\"오디오 파일을 mel spectrogram으로 변환 후 5초 간격으로 잘라서 저장\n",
    "\n",
    "    Args:\n",
    "        filepath (str): 오디오 파일 경로\n",
    "        min_sec_proc (int): 자를 간격(5초) * sample rate\n",
    "        sample_rate (int): 1초에 측정한 샘플 수\n",
    "        mel_converter (torch.transform): mel_converter\n",
    "        data_index (int, optional): 파일이름(인덱스). Defaults to 0.\n",
    "        label_list (list, optional): 각 음원 파일 별 label 정보(target). Defaults to [].\n",
    "        bird_label (list, optional): 전체 타겟 클래스 정보. Defaults to [].\n",
    "        label_file (list, optional): 각 파일에 들어있는 타겟 정보. Defaults to [].\n",
    "\n",
    "    Returns:\n",
    "        _type_: _description_\n",
    "    \"\"\"\n",
    "\n",
    "    label_file_all = np.zeros(len(bird_label))\n",
    "    for label_file_temp in label_file:\n",
    "        label_file_all += label_file_temp == bird_label\n",
    "    label_file_all = np.clip(label_file_all, 0, 1)\n",
    "\n",
    "    waveform, sample_rate_file = torchaudio.load(filepath=filepath)\n",
    "\n",
    "    if sample_rate_file != sample_rate:\n",
    "        resample = T.Resample(sample_rate_file, sample_rate)\n",
    "        waveform = resample(waveform)\n",
    "\n",
    "    wav_len = waveform.shape[1]\n",
    "    waveform = to_mono(waveform)\n",
    "    waveform = waveform.reshape(1, wav_len)\n",
    "\n",
    "    waveform, wav_len = repeat_crop_waveform(waveform, min_sec_proc, wav_len)\n",
    "\n",
    "    for index in range(int(wav_len / min_sec_proc)):\n",
    "        log_melspec = torch.log10(\n",
    "            mel_converter(\n",
    "                waveform[0, index * min_sec_proc : index * min_sec_proc + min_sec_proc]\n",
    "            ).unsqueeze(0)\n",
    "            + 1e-10\n",
    "        )  # 5초마다 자르기\n",
    "        log_melspec = normalize_std(log_melspec)\n",
    "\n",
    "        if not os.path.exists(PROCESSED_DATA_DIRNAME / stage):\n",
    "            os.makedirs(PROCESSED_DATA_DIRNAME / stage)\n",
    "\n",
    "        torch.save(log_melspec, PROCESSED_DATA_DIRNAME / stage / (str(data_index) + \".pt\"))\n",
    "        label_list.append(label_file_all)\n",
    "        data_index += 1\n",
    "\n",
    "    return data_index\n",
    "\n",
    "\n",
    "def repeat_crop_waveform(waveform: torch.tensor, min_sec_proc, wav_len) -> torch.tensor:\n",
    "    \"\"\"\n",
    "    정해진 길이만큼 오디오를 반복한후 자른다.\n",
    "    \n",
    "    Args:\n",
    "        waveform(torch.tensor): 오디오 파일의 waveform\n",
    "        min_sec : 최소 시간\n",
    "    \"\"\"\n",
    "\n",
    "    if wav_len < min_sec_proc:\n",
    "        for _ in range(round(min_sec_proc / wav_len)):\n",
    "            waveform = torch.cat((waveform, waveform[:, 0:wav_len]), 1)\n",
    "        wav_len = min_sec_proc\n",
    "        waveform = waveform[:, 0:wav_len]\n",
    "\n",
    "    return waveform, wav_len"
   ]
  },
  {
   "cell_type": "code",
   "execution_count": null,
   "metadata": {
    "vscode": {
     "languageId": "python"
    }
   },
   "outputs": [],
   "source": [
    "def _save_mel_labels_essentials(\n",
    "    df: pd.DataFrame, stage, min_sec_proc, mel_converter, sample_rate=32000\n",
    "):\n",
    "    \"\"\"audio data를 mel spectrogram으로 변환한 후 5초 간격으로 나누어서 저장.\n",
    "\n",
    "    Args:\n",
    "        df (pd.DataFrame): 오디오 파일 metadata\n",
    "    \"\"\"\n",
    "    if not os.path.exists(PROCESSED_DATA_DIRNAME):\n",
    "        os.makedirs(PROCESSED_DATA_DIRNAME)\n",
    "    bird_label = list(df[\"primary_label\"].unique())\n",
    "    essentials = {\"birds\": bird_label, \"sample_rate\": sample_rate}\n",
    "    with open(ESSENTIALS_FILENAME, \"w\") as f:\n",
    "        json.dump(essentials, f)\n",
    "\n",
    "    data_index = 0\n",
    "    label_list = []\n",
    "\n",
    "    for i in range(len(df)):\n",
    "        data_index = _audio_to_mel_label(\n",
    "            df[\"filepath\"].iloc[i],\n",
    "            min_sec_proc,\n",
    "            sample_rate,\n",
    "            mel_converter,\n",
    "            stage,\n",
    "            data_index,\n",
    "            label_list,\n",
    "            bird_label,\n",
    "            [df[\"primary_label\"].iloc[i]] + eval(df[\"secondary_labels\"].iloc[i]),\n",
    "        )\n",
    "\n",
    "    torch.save(np.stack(label_list), PROCESSED_DATA_DIRNAME / stage / \"label_list.pt\")"
   ]
  },
  {
   "cell_type": "code",
   "execution_count": 1,
   "metadata": {
    "vscode": {
     "languageId": "python"
    }
   },
   "outputs": [
    {
     "name": "stderr",
     "output_type": "stream",
     "text": [
      "/home/skang/.local/share/virtualenvs/kaggle-FCKdAziW/lib/python3.8/site-packages/tqdm/auto.py:22: TqdmWarning: IProgress not found. Please update jupyter and ipywidgets. See https://ipywidgets.readthedocs.io/en/stable/user_install.html\n",
      "  from .autonotebook import tqdm as notebook_tqdm\n"
     ]
    }
   ],
   "source": [
    "import torchaudio"
   ]
  },
  {
   "cell_type": "code",
   "execution_count": 2,
   "metadata": {
    "vscode": {
     "languageId": "python"
    }
   },
   "outputs": [],
   "source": [
    "waveform, sample_rate_file = torchaudio.load(filepath=\"/home/skang/Documents/kaggle/birdclef2022/input/train_audio/afrsil1/XC125458.ogg\")"
   ]
  },
  {
   "cell_type": "code",
   "execution_count": 4,
   "metadata": {
    "vscode": {
     "languageId": "python"
    }
   },
   "outputs": [
    {
     "data": {
      "text/plain": [
       "torch.Size([1, 355265])"
      ]
     },
     "execution_count": 4,
     "metadata": {},
     "output_type": "execute_result"
    }
   ],
   "source": []
  },
  {
   "cell_type": "code",
   "execution_count": null,
   "metadata": {
    "vscode": {
     "languageId": "python"
    }
   },
   "outputs": [],
   "source": [
    "waveform, wav_len = repeat_crop_waveform(waveform: torch.tensor, 32000 * 5, wavefrom.shape[1])"
   ]
  },
  {
   "cell_type": "code",
   "execution_count": 37,
   "metadata": {
    "vscode": {
     "languageId": "python"
    }
   },
   "outputs": [],
   "source": [
    "import torch\n",
    "\n",
    "t = torch.load(\"/home/skang/Documents/kaggle/birdclef2022/input/processed/birdclef2022/v1/trainval/label_list.pt\")"
   ]
  },
  {
   "cell_type": "code",
   "execution_count": 32,
   "metadata": {
    "vscode": {
     "languageId": "python"
    }
   },
   "outputs": [],
   "source": [
    "import json\n",
    "with open(\"/home/skang/Documents/kaggle/birdclef2022/input/processed/birdclef2022/v1/birdclef2022.json\") as f:\n",
    "    essentials = json.load(f)"
   ]
  },
  {
   "cell_type": "code",
   "execution_count": 55,
   "metadata": {
    "vscode": {
     "languageId": "python"
    }
   },
   "outputs": [],
   "source": [
    "y = np.array(essentials['birds'])"
   ]
  },
  {
   "cell_type": "code",
   "execution_count": 57,
   "metadata": {
    "vscode": {
     "languageId": "python"
    }
   },
   "outputs": [
    {
     "data": {
      "text/plain": [
       "array([ True, False, False, False, False, False, False, False, False,\n",
       "       False, False, False, False, False, False, False, False, False,\n",
       "       False, False, False, False, False, False, False, False, False,\n",
       "       False, False, False, False, False, False, False, False, False,\n",
       "       False, False, False, False, False, False, False, False, False,\n",
       "       False, False, False, False, False, False, False, False, False,\n",
       "       False, False, False, False, False, False, False, False, False,\n",
       "       False, False, False, False, False, False, False, False, False,\n",
       "       False, False, False, False, False, False, False, False, False,\n",
       "       False, False, False, False, False, False, False, False, False,\n",
       "       False, False, False, False, False, False, False, False, False,\n",
       "       False, False, False, False, False, False, False, False, False,\n",
       "       False, False, False, False, False, False, False, False, False,\n",
       "       False, False, False, False, False, False, False, False, False,\n",
       "       False, False, False, False, False, False, False, False, False,\n",
       "       False, False, False, False, False, False, False, False, False,\n",
       "       False, False, False, False, False, False, False, False])"
      ]
     },
     "execution_count": 57,
     "metadata": {},
     "output_type": "execute_result"
    }
   ],
   "source": [
    "y == 'afrsil1'"
   ]
  },
  {
   "cell_type": "code",
   "execution_count": 51,
   "metadata": {
    "vscode": {
     "languageId": "python"
    }
   },
   "outputs": [],
   "source": [
    "import numpy as np"
   ]
  },
  {
   "cell_type": "code",
   "execution_count": null,
   "metadata": {
    "vscode": {
     "languageId": "python"
    }
   },
   "outputs": [],
   "source": [
    "np."
   ]
  },
  {
   "cell_type": "code",
   "execution_count": 53,
   "metadata": {
    "vscode": {
     "languageId": "python"
    }
   },
   "outputs": [
    {
     "data": {
      "text/plain": [
       "array([1., 0., 0., 0., 0., 0., 0., 0., 0., 0., 0., 0., 0., 0., 0., 0., 0.,\n",
       "       0., 0., 0., 0., 0., 0., 0., 0., 0., 0., 0., 0., 0., 0., 0., 0., 0.,\n",
       "       0., 0., 0., 0., 0., 0., 0., 0., 0., 0., 0., 0., 0., 0., 0., 0., 0.,\n",
       "       0., 0., 0., 0., 0., 0., 0., 0., 0., 0., 0., 0., 0., 0., 0., 0., 0.,\n",
       "       0., 0., 0., 0., 0., 0., 0., 0., 0., 0., 0., 0., 0., 0., 0., 0., 0.,\n",
       "       0., 0., 0., 0., 0., 0., 0., 0., 0., 0., 0., 0., 0., 0., 0., 0., 0.,\n",
       "       0., 0., 0., 0., 0., 0., 0., 0., 0., 0., 0., 0., 0., 0., 0., 0., 0.,\n",
       "       0., 0., 0., 0., 0., 0., 0., 0., 0., 0., 0., 0., 0., 0., 0., 0., 0.,\n",
       "       0., 0., 0., 0., 0., 0., 0., 0., 0., 0., 0., 0., 0., 0., 0., 0.])"
      ]
     },
     "execution_count": 53,
     "metadata": {},
     "output_type": "execute_result"
    }
   ],
   "source": [
    "t[0]"
   ]
  },
  {
   "cell_type": "code",
   "execution_count": 52,
   "metadata": {
    "vscode": {
     "languageId": "python"
    }
   },
   "outputs": [
    {
     "name": "stdout",
     "output_type": "stream",
     "text": [
      "False\n"
     ]
    },
    {
     "name": "stderr",
     "output_type": "stream",
     "text": [
      "/tmp/ipykernel_2358309/2551274441.py:1: FutureWarning: elementwise comparison failed; returning scalar instead, but in the future will perform elementwise comparison\n",
      "  print(np.array(t[0]) == 'afrsil1')\n"
     ]
    }
   ],
   "source": [
    "print(np.array(at[0]) == 'afrsil1')"
   ]
  },
  {
   "cell_type": "code",
   "execution_count": null,
   "metadata": {
    "vscode": {
     "languageId": "python"
    }
   },
   "outputs": [],
   "source": [
    "label_file_all"
   ]
  },
  {
   "cell_type": "code",
   "execution_count": 36,
   "metadata": {
    "vscode": {
     "languageId": "python"
    }
   },
   "outputs": [
    {
     "data": {
      "text/plain": [
       "['afrsil1',\n",
       " 'akekee',\n",
       " 'akepa1',\n",
       " 'akiapo',\n",
       " 'akikik',\n",
       " 'amewig',\n",
       " 'aniani',\n",
       " 'apapan',\n",
       " 'arcter',\n",
       " 'barpet',\n",
       " 'bcnher',\n",
       " 'belkin1',\n",
       " 'bkbplo',\n",
       " 'bknsti',\n",
       " 'bkwpet',\n",
       " 'blkfra',\n",
       " 'blknod',\n",
       " 'bongul',\n",
       " 'brant',\n",
       " 'brnboo',\n",
       " 'brnnod',\n",
       " 'brnowl',\n",
       " 'brtcur',\n",
       " 'bubsan',\n",
       " 'buffle',\n",
       " 'bulpet',\n",
       " 'burpar',\n",
       " 'buwtea',\n",
       " 'cacgoo1',\n",
       " 'calqua',\n",
       " 'cangoo',\n",
       " 'canvas',\n",
       " 'caster1',\n",
       " 'categr',\n",
       " 'chbsan',\n",
       " 'chemun',\n",
       " 'chukar',\n",
       " 'cintea',\n",
       " 'comgal1',\n",
       " 'commyn',\n",
       " 'compea',\n",
       " 'comsan',\n",
       " 'comwax',\n",
       " 'coopet',\n",
       " 'crehon',\n",
       " 'dunlin',\n",
       " 'elepai',\n",
       " 'ercfra',\n",
       " 'eurwig',\n",
       " 'fragul',\n",
       " 'gadwal',\n",
       " 'gamqua',\n",
       " 'glwgul',\n",
       " 'gnwtea',\n",
       " 'golphe',\n",
       " 'grbher3',\n",
       " 'grefri',\n",
       " 'gresca',\n",
       " 'gryfra',\n",
       " 'gwfgoo',\n",
       " 'hawama',\n",
       " 'hawcoo',\n",
       " 'hawcre',\n",
       " 'hawgoo',\n",
       " 'hawhaw',\n",
       " 'hawpet1',\n",
       " 'hoomer',\n",
       " 'houfin',\n",
       " 'houspa',\n",
       " 'hudgod',\n",
       " 'iiwi',\n",
       " 'incter1',\n",
       " 'jabwar',\n",
       " 'japqua',\n",
       " 'kalphe',\n",
       " 'kauama',\n",
       " 'laugul',\n",
       " 'layalb',\n",
       " 'lcspet',\n",
       " 'leasan',\n",
       " 'leater1',\n",
       " 'lessca',\n",
       " 'lesyel',\n",
       " 'lobdow',\n",
       " 'lotjae',\n",
       " 'madpet',\n",
       " 'magpet1',\n",
       " 'mallar3',\n",
       " 'masboo',\n",
       " 'mauala',\n",
       " 'maupar',\n",
       " 'merlin',\n",
       " 'mitpar',\n",
       " 'moudov',\n",
       " 'norcar',\n",
       " 'norhar2',\n",
       " 'normoc',\n",
       " 'norpin',\n",
       " 'norsho',\n",
       " 'nutman',\n",
       " 'oahama',\n",
       " 'omao',\n",
       " 'osprey',\n",
       " 'pagplo',\n",
       " 'palila',\n",
       " 'parjae',\n",
       " 'pecsan',\n",
       " 'peflov',\n",
       " 'perfal',\n",
       " 'pibgre',\n",
       " 'pomjae',\n",
       " 'puaioh',\n",
       " 'reccar',\n",
       " 'redava',\n",
       " 'redjun',\n",
       " 'redpha1',\n",
       " 'refboo',\n",
       " 'rempar',\n",
       " 'rettro',\n",
       " 'ribgul',\n",
       " 'rinduc',\n",
       " 'rinphe',\n",
       " 'rocpig',\n",
       " 'rorpar',\n",
       " 'rudtur',\n",
       " 'ruff',\n",
       " 'saffin',\n",
       " 'sander',\n",
       " 'semplo',\n",
       " 'sheowl',\n",
       " 'shtsan',\n",
       " 'skylar',\n",
       " 'snogoo',\n",
       " 'sooshe',\n",
       " 'sooter1',\n",
       " 'sopsku1',\n",
       " 'sora',\n",
       " 'spodov',\n",
       " 'sposan',\n",
       " 'towsol',\n",
       " 'wantat1',\n",
       " 'warwhe1',\n",
       " 'wesmea',\n",
       " 'wessan',\n",
       " 'wetshe',\n",
       " 'whfibi',\n",
       " 'whiter',\n",
       " 'whttro',\n",
       " 'wiltur',\n",
       " 'yebcar',\n",
       " 'yefcan',\n",
       " 'zebdov']"
      ]
     },
     "execution_count": 36,
     "metadata": {},
     "output_type": "execute_result"
    }
   ],
   "source": [
    "y"
   ]
  },
  {
   "cell_type": "code",
   "execution_count": 35,
   "metadata": {
    "vscode": {
     "languageId": "python"
    }
   },
   "outputs": [
    {
     "data": {
      "text/plain": [
       "array([False,  True, False, False, False, False, False, False, False,\n",
       "       False, False, False, False, False, False, False, False, False,\n",
       "       False, False, False, False, False, False, False, False, False,\n",
       "       False, False, False, False, False, False, False, False, False,\n",
       "       False, False, False, False, False, False, False, False, False,\n",
       "       False, False, False, False, False, False, False, False, False,\n",
       "       False, False, False, False, False, False, False, False, False,\n",
       "       False, False, False, False, False, False, False, False, False,\n",
       "       False, False, False, False, False, False, False, False, False,\n",
       "       False, False, False, False, False, False, False, False, False,\n",
       "       False, False, False, False, False, False, False, False, False,\n",
       "       False, False, False, False, False, False, False, False, False,\n",
       "       False, False, False, False, False, False, False, False, False,\n",
       "       False, False, False, False, False, False, False, False, False,\n",
       "       False, False, False, False, False, False, False, False, False,\n",
       "       False, False, False, False, False, False, False, False, False,\n",
       "       False, False, False, False, False, False, False, False])"
      ]
     },
     "execution_count": 35,
     "metadata": {},
     "output_type": "execute_result"
    }
   ],
   "source": [
    "import numpy as np\n",
    "(\"akekee\" == np.array(y))"
   ]
  },
  {
   "cell_type": "code",
   "execution_count": 45,
   "metadata": {
    "vscode": {
     "languageId": "python"
    }
   },
   "outputs": [
    {
     "data": {
      "text/plain": [
       "['afrsil1', 'houspa', 'redava', 'zebdov']"
      ]
     },
     "execution_count": 45,
     "metadata": {},
     "output_type": "execute_result"
    }
   ],
   "source": [
    "[y[j] for j in range(len(t[0])) if t[2][j] == True]"
   ]
  }
 ],
 "metadata": {
  "kernelspec": {
   "display_name": "kaggle",
   "language": "python",
   "name": "kaggle"
  },
  "language_info": {
   "name": "",
   "version": ""
  },
  "orig_nbformat": 4
 },
 "nbformat": 4,
 "nbformat_minor": 2
}
