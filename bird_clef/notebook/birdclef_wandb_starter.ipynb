{
 "cells": [
  {
   "cell_type": "markdown",
   "metadata": {},
   "source": [
    "# [Pytorch] Birdclef starter"
   ]
  },
  {
   "cell_type": "code",
   "execution_count": 1,
   "metadata": {},
   "outputs": [
    {
     "name": "stdout",
     "output_type": "stream",
     "text": [
      "Collecting timm\n",
      "  Downloading timm-0.5.4-py3-none-any.whl (431 kB)\n",
      "\u001b[2K     \u001b[38;2;114;156;31m━━━━━━━━━━━━━━━━━━━━━━━━━━━━━━━━━━━━━━━\u001b[0m \u001b[32m431.5/431.5 KB\u001b[0m \u001b[31m4.6 MB/s\u001b[0m eta \u001b[36m0:00:00\u001b[0mm eta \u001b[36m0:00:01\u001b[0m[36m0:00:01\u001b[0m\n",
      "\u001b[?25hRequirement already satisfied: torchvision in /home/skang/.local/share/virtualenvs/deeplearning_for_music-rxHLmc7i/lib/python3.8/site-packages (from timm) (0.8.2)\n",
      "Requirement already satisfied: torch>=1.4 in /home/skang/.local/share/virtualenvs/deeplearning_for_music-rxHLmc7i/lib/python3.8/site-packages (from timm) (1.7.1)\n",
      "Requirement already satisfied: numpy in /home/skang/.local/share/virtualenvs/deeplearning_for_music-rxHLmc7i/lib/python3.8/site-packages (from torch>=1.4->timm) (1.22.3)\n",
      "Requirement already satisfied: typing-extensions in /home/skang/.local/share/virtualenvs/deeplearning_for_music-rxHLmc7i/lib/python3.8/site-packages (from torch>=1.4->timm) (4.1.1)\n",
      "Requirement already satisfied: pillow>=4.1.1 in /home/skang/.local/share/virtualenvs/deeplearning_for_music-rxHLmc7i/lib/python3.8/site-packages (from torchvision->timm) (9.1.0)\n",
      "Installing collected packages: timm\n",
      "Successfully installed timm-0.5.4\n",
      "Collecting wandb\n",
      "  Downloading wandb-0.12.17-py2.py3-none-any.whl (1.8 MB)\n",
      "\u001b[2K     \u001b[38;2;114;156;31m━━━━━━━━━━━━━━━━━━━━━━━━━━━━━━━━━━━━━━━━\u001b[0m \u001b[32m1.8/1.8 MB\u001b[0m \u001b[31m6.6 MB/s\u001b[0m eta \u001b[36m0:00:00\u001b[0mm eta \u001b[36m0:00:01\u001b[0m[36m0:00:01\u001b[0m\n",
      "\u001b[?25hCollecting sentry-sdk>=1.0.0\n",
      "  Downloading sentry_sdk-1.5.12-py2.py3-none-any.whl (145 kB)\n",
      "\u001b[2K     \u001b[38;2;114;156;31m━━━━━━━━━━━━━━━━━━━━━━━━━━━━━━━━━━━━━━━\u001b[0m \u001b[32m145.3/145.3 KB\u001b[0m \u001b[31m2.5 MB/s\u001b[0m eta \u001b[36m0:00:00\u001b[0m[36m0:00:01\u001b[0m\n",
      "\u001b[?25hCollecting Click!=8.0.0,>=7.0\n",
      "  Downloading click-8.1.3-py3-none-any.whl (96 kB)\n",
      "\u001b[2K     \u001b[38;2;114;156;31m━━━━━━━━━━━━━━━━━━━━━━━━━━━━━━━━━━━━━━━━\u001b[0m \u001b[32m96.6/96.6 KB\u001b[0m \u001b[31m1.5 MB/s\u001b[0m eta \u001b[36m0:00:00\u001b[0m5 MB/s\u001b[0m eta \u001b[36m0:00:01\u001b[0m\n",
      "\u001b[?25hCollecting docker-pycreds>=0.4.0\n",
      "  Downloading docker_pycreds-0.4.0-py2.py3-none-any.whl (9.0 kB)\n",
      "Collecting setproctitle\n",
      "  Downloading setproctitle-1.2.3-cp38-cp38-manylinux_2_5_x86_64.manylinux1_x86_64.manylinux_2_17_x86_64.manylinux2014_x86_64.whl (29 kB)\n",
      "Requirement already satisfied: six>=1.13.0 in /home/skang/.local/share/virtualenvs/deeplearning_for_music-rxHLmc7i/lib/python3.8/site-packages (from wandb) (1.16.0)\n",
      "Collecting protobuf<4.0dev,>=3.12.0\n",
      "  Downloading protobuf-3.20.1-cp38-cp38-manylinux_2_5_x86_64.manylinux1_x86_64.whl (1.0 MB)\n",
      "\u001b[2K     \u001b[38;2;114;156;31m━━━━━━━━━━━━━━━━━━━━━━━━━━━━━━━━━━━━━━━━\u001b[0m \u001b[32m1.0/1.0 MB\u001b[0m \u001b[31m6.2 MB/s\u001b[0m eta \u001b[36m0:00:00\u001b[0mm eta \u001b[36m0:00:01\u001b[0m[36m0:00:01\u001b[0m\n",
      "\u001b[?25hRequirement already satisfied: setuptools in /home/skang/.local/share/virtualenvs/deeplearning_for_music-rxHLmc7i/lib/python3.8/site-packages (from wandb) (62.1.0)\n",
      "Collecting shortuuid>=0.5.0\n",
      "  Downloading shortuuid-1.0.9-py3-none-any.whl (9.4 kB)\n",
      "Collecting pathtools\n",
      "  Downloading pathtools-0.1.2.tar.gz (11 kB)\n",
      "  Preparing metadata (setup.py) ... \u001b[?25ldone\n",
      "\u001b[?25hRequirement already satisfied: requests<3,>=2.0.0 in /home/skang/.local/share/virtualenvs/deeplearning_for_music-rxHLmc7i/lib/python3.8/site-packages (from wandb) (2.27.1)\n",
      "Collecting GitPython>=1.0.0\n",
      "  Using cached GitPython-3.1.27-py3-none-any.whl (181 kB)\n",
      "Requirement already satisfied: python-dateutil>=2.6.1 in /home/skang/.local/share/virtualenvs/deeplearning_for_music-rxHLmc7i/lib/python3.8/site-packages (from wandb) (2.8.2)\n",
      "Collecting promise<3,>=2.0\n",
      "  Downloading promise-2.3.tar.gz (19 kB)\n",
      "  Preparing metadata (setup.py) ... \u001b[?25ldone\n",
      "\u001b[?25hRequirement already satisfied: PyYAML in /home/skang/.local/share/virtualenvs/deeplearning_for_music-rxHLmc7i/lib/python3.8/site-packages (from wandb) (6.0)\n",
      "Requirement already satisfied: psutil>=5.0.0 in /home/skang/.local/share/virtualenvs/deeplearning_for_music-rxHLmc7i/lib/python3.8/site-packages (from wandb) (5.9.0)\n",
      "Collecting gitdb<5,>=4.0.1\n",
      "  Using cached gitdb-4.0.9-py3-none-any.whl (63 kB)\n",
      "Requirement already satisfied: charset-normalizer~=2.0.0 in /home/skang/.local/share/virtualenvs/deeplearning_for_music-rxHLmc7i/lib/python3.8/site-packages (from requests<3,>=2.0.0->wandb) (2.0.12)\n",
      "Requirement already satisfied: urllib3<1.27,>=1.21.1 in /home/skang/.local/share/virtualenvs/deeplearning_for_music-rxHLmc7i/lib/python3.8/site-packages (from requests<3,>=2.0.0->wandb) (1.26.9)\n",
      "Requirement already satisfied: idna<4,>=2.5 in /home/skang/.local/share/virtualenvs/deeplearning_for_music-rxHLmc7i/lib/python3.8/site-packages (from requests<3,>=2.0.0->wandb) (3.3)\n",
      "Requirement already satisfied: certifi>=2017.4.17 in /home/skang/.local/share/virtualenvs/deeplearning_for_music-rxHLmc7i/lib/python3.8/site-packages (from requests<3,>=2.0.0->wandb) (2021.10.8)\n",
      "Collecting smmap<6,>=3.0.1\n",
      "  Using cached smmap-5.0.0-py3-none-any.whl (24 kB)\n",
      "Building wheels for collected packages: promise, pathtools\n",
      "  Building wheel for promise (setup.py) ... \u001b[?25ldone\n",
      "\u001b[?25h  Created wheel for promise: filename=promise-2.3-py3-none-any.whl size=21503 sha256=f8c595b033bce360aefedc2c09d434c220be03913b7724138dc15233f89b6806\n",
      "  Stored in directory: /home/skang/.cache/pip/wheels/54/aa/01/724885182f93150035a2a91bce34a12877e8067a97baaf5dc8\n",
      "  Building wheel for pathtools (setup.py) ... \u001b[?25ldone\n",
      "\u001b[?25h  Created wheel for pathtools: filename=pathtools-0.1.2-py3-none-any.whl size=8806 sha256=4fa4260fd3c1e66f197536633508b823f679ba382b67f77a9901b1fe400fc209\n",
      "  Stored in directory: /home/skang/.cache/pip/wheels/4c/8e/7e/72fbc243e1aeecae64a96875432e70d4e92f3d2d18123be004\n",
      "Successfully built promise pathtools\n",
      "Installing collected packages: pathtools, smmap, shortuuid, setproctitle, sentry-sdk, protobuf, promise, docker-pycreds, Click, gitdb, GitPython, wandb\n",
      "Successfully installed Click-8.1.3 GitPython-3.1.27 docker-pycreds-0.4.0 gitdb-4.0.9 pathtools-0.1.2 promise-2.3 protobuf-3.20.1 sentry-sdk-1.5.12 setproctitle-1.2.3 shortuuid-1.0.9 smmap-5.0.0 wandb-0.12.17\n"
     ]
    }
   ],
   "source": [
    "!pip install timm\n",
    "!pip install --upgrade wandb"
   ]
  },
  {
   "cell_type": "code",
   "execution_count": 6,
   "metadata": {},
   "outputs": [],
   "source": [
    "import os\n",
    "import gc\n",
    "import cv2\n",
    "import math\n",
    "import copy\n",
    "import time\n",
    "import random\n",
    "\n",
    "# For data manipulation\n",
    "import numpy as np\n",
    "import pandas as pd\n",
    "\n",
    "# Pytorch Imports\n",
    "import torch\n",
    "import torch.nn as nn\n",
    "import torch.optim as optim\n",
    "import torch.nn.functional as F\n",
    "from torch.optim import lr_scheduler\n",
    "from torch.utils.data import Dataset, DataLoader\n",
    "from torch.cuda import amp\n",
    "\n",
    "# Audio \n",
    "import torchaudio\n",
    "from torchaudio.transforms import MelSpectrogram, Resample\n",
    "\n",
    "# Utils\n",
    "import joblib\n",
    "from tqdm import tqdm\n",
    "from collections import defaultdict\n",
    "\n",
    "# Sklearn Imports\n",
    "from sklearn.preprocessing import LabelEncoder\n",
    "from sklearn.model_selection import StratifiedKFold\n",
    "from sklearn.metrics import f1_score\n",
    "\n",
    "# For Image Models\n",
    "import timm\n",
    "\n",
    "# For colored terminal text\n",
    "from colorama import Fore, Back, Style\n",
    "b_ = Fore.BLUE\n",
    "sr_ = Style.RESET_ALL\n",
    "\n",
    "import warnings\n",
    "warnings.filterwarnings(\"ignore\")\n",
    "\n",
    "# For descriptive error messages\n",
    "os.environ['CUDA_LAUNCH_BLOCKING'] = \"1\""
   ]
  },
  {
   "cell_type": "markdown",
   "metadata": {},
   "source": [
    "**import wandb and log in**     \n",
    "You will need a unique API key to log in to Weights & Biases.\n",
    "\n",
    "If you don't have a Weights & Biases account, you can go to https://wandb.ai/site and create a FREE account.\n",
    "Access your API key: https://wandb.ai/authorize."
   ]
  },
  {
   "cell_type": "code",
   "execution_count": 21,
   "metadata": {},
   "outputs": [
    {
     "name": "stderr",
     "output_type": "stream",
     "text": [
      "\u001b[34m\u001b[1mwandb\u001b[0m: \u001b[33mWARNING\u001b[0m Calling wandb.login() after wandb.init() has no effect.\n"
     ]
    },
    {
     "data": {
      "text/plain": [
       "True"
      ]
     },
     "execution_count": 21,
     "metadata": {},
     "output_type": "execute_result"
    }
   ],
   "source": [
    "import wandb\n",
    "\n",
    "wandb.login()"
   ]
  },
  {
   "cell_type": "code",
   "execution_count": 15,
   "metadata": {},
   "outputs": [],
   "source": [
    "CONFIG = {\"seed\": 2022,\n",
    "          \"epochs\": 10,\n",
    "          \"model_name\": \"tf_efficientnet_b0_ns\",\n",
    "          \"embedding_size\": 768,\n",
    "          \"num_classes\": 152,\n",
    "          \"train_batch_size\": 64,\n",
    "          \"valid_batch_size\": 128,\n",
    "          \"learning_rate\": 1e-4,\n",
    "          \"scheduler\": 'CosineAnnealingLR',\n",
    "          \"min_lr\": 1e-6,\n",
    "          \"T_max\": 500,\n",
    "          \"weight_decay\": 1e-6,\n",
    "          \"n_fold\": 5,\n",
    "          \"n_accumulate\": 1,\n",
    "          \"device\": torch.device(\"cuda:0\" if torch.cuda.is_available() else \"cpu\"),\n",
    "          \"competition\": \"BirdCLEF22\",\n",
    "          \"_wandb_kernel\": \"deb\",\n",
    "          # Audio Specific\n",
    "          \"sample_rate\": 32_000,\n",
    "          \"max_time\": 5,\n",
    "          \"n_mels\": 224,\n",
    "          \"n_fft\": 1024,\n",
    "          }"
   ]
  },
  {
   "cell_type": "code",
   "execution_count": 16,
   "metadata": {},
   "outputs": [],
   "source": [
    "def set_seed(seed=42):\n",
    "    '''Sets the seed of the entire notebook so results are the same every time we run.\n",
    "    This is for REPRODUCIBILITY.'''\n",
    "    np.random.seed(seed)\n",
    "    torch.manual_seed(seed)\n",
    "    torch.cuda.manual_seed(seed)\n",
    "    # When running on the CuDNN backend, two further options must be set\n",
    "    torch.backends.cudnn.deterministic = True\n",
    "    torch.backends.cudnn.benchmark = False\n",
    "    # Set a fixed value for the hash seed\n",
    "    os.environ['PYTHONHASHSEED'] = str(seed)\n",
    "    \n",
    "set_seed(CONFIG['seed'])"
   ]
  },
  {
   "cell_type": "code",
   "execution_count": 17,
   "metadata": {},
   "outputs": [],
   "source": [
    "ROOT_DIR = '../input/birdclef-2022'\n",
    "TRAIN_DIR = '../input/birdclef-2022/train_audio'\n",
    "TEST_DIR = '../input/birdclef-2022/test_soundscapes'"
   ]
  },
  {
   "cell_type": "code",
   "execution_count": 18,
   "metadata": {},
   "outputs": [],
   "source": [
    "def get_train_file_path(filename):\n",
    "    return f\"{TRAIN_DIR}/{filename}\""
   ]
  },
  {
   "cell_type": "markdown",
   "metadata": {},
   "source": [
    "# Read data"
   ]
  },
  {
   "cell_type": "code",
   "execution_count": 19,
   "metadata": {},
   "outputs": [
    {
     "data": {
      "text/html": [
       "<div>\n",
       "<style scoped>\n",
       "    .dataframe tbody tr th:only-of-type {\n",
       "        vertical-align: middle;\n",
       "    }\n",
       "\n",
       "    .dataframe tbody tr th {\n",
       "        vertical-align: top;\n",
       "    }\n",
       "\n",
       "    .dataframe thead th {\n",
       "        text-align: right;\n",
       "    }\n",
       "</style>\n",
       "<table border=\"1\" class=\"dataframe\">\n",
       "  <thead>\n",
       "    <tr style=\"text-align: right;\">\n",
       "      <th></th>\n",
       "      <th>primary_label</th>\n",
       "      <th>secondary_labels</th>\n",
       "      <th>type</th>\n",
       "      <th>latitude</th>\n",
       "      <th>longitude</th>\n",
       "      <th>scientific_name</th>\n",
       "      <th>common_name</th>\n",
       "      <th>author</th>\n",
       "      <th>license</th>\n",
       "      <th>rating</th>\n",
       "      <th>time</th>\n",
       "      <th>url</th>\n",
       "      <th>filename</th>\n",
       "      <th>file_path</th>\n",
       "    </tr>\n",
       "  </thead>\n",
       "  <tbody>\n",
       "    <tr>\n",
       "      <th>0</th>\n",
       "      <td>afrsil1</td>\n",
       "      <td>[]</td>\n",
       "      <td>['call', 'flight call']</td>\n",
       "      <td>12.3910</td>\n",
       "      <td>-1.4930</td>\n",
       "      <td>Euodice cantans</td>\n",
       "      <td>African Silverbill</td>\n",
       "      <td>Bram Piot</td>\n",
       "      <td>Creative Commons Attribution-NonCommercial-Sha...</td>\n",
       "      <td>2.5</td>\n",
       "      <td>08:00</td>\n",
       "      <td>https://www.xeno-canto.org/125458</td>\n",
       "      <td>afrsil1/XC125458.ogg</td>\n",
       "      <td>../input/birdclef-2022/train_audio/afrsil1/XC1...</td>\n",
       "    </tr>\n",
       "    <tr>\n",
       "      <th>1</th>\n",
       "      <td>afrsil1</td>\n",
       "      <td>['houspa', 'redava', 'zebdov']</td>\n",
       "      <td>['call']</td>\n",
       "      <td>19.8801</td>\n",
       "      <td>-155.7254</td>\n",
       "      <td>Euodice cantans</td>\n",
       "      <td>African Silverbill</td>\n",
       "      <td>Dan Lane</td>\n",
       "      <td>Creative Commons Attribution-NonCommercial-Sha...</td>\n",
       "      <td>3.5</td>\n",
       "      <td>08:30</td>\n",
       "      <td>https://www.xeno-canto.org/175522</td>\n",
       "      <td>afrsil1/XC175522.ogg</td>\n",
       "      <td>../input/birdclef-2022/train_audio/afrsil1/XC1...</td>\n",
       "    </tr>\n",
       "    <tr>\n",
       "      <th>2</th>\n",
       "      <td>afrsil1</td>\n",
       "      <td>[]</td>\n",
       "      <td>['call', 'song']</td>\n",
       "      <td>16.2901</td>\n",
       "      <td>-16.0321</td>\n",
       "      <td>Euodice cantans</td>\n",
       "      <td>African Silverbill</td>\n",
       "      <td>Bram Piot</td>\n",
       "      <td>Creative Commons Attribution-NonCommercial-Sha...</td>\n",
       "      <td>4.0</td>\n",
       "      <td>11:30</td>\n",
       "      <td>https://www.xeno-canto.org/177993</td>\n",
       "      <td>afrsil1/XC177993.ogg</td>\n",
       "      <td>../input/birdclef-2022/train_audio/afrsil1/XC1...</td>\n",
       "    </tr>\n",
       "    <tr>\n",
       "      <th>3</th>\n",
       "      <td>afrsil1</td>\n",
       "      <td>[]</td>\n",
       "      <td>['alarm call', 'call']</td>\n",
       "      <td>17.0922</td>\n",
       "      <td>54.2958</td>\n",
       "      <td>Euodice cantans</td>\n",
       "      <td>African Silverbill</td>\n",
       "      <td>Oscar Campbell</td>\n",
       "      <td>Creative Commons Attribution-NonCommercial-Sha...</td>\n",
       "      <td>4.0</td>\n",
       "      <td>11:00</td>\n",
       "      <td>https://www.xeno-canto.org/205893</td>\n",
       "      <td>afrsil1/XC205893.ogg</td>\n",
       "      <td>../input/birdclef-2022/train_audio/afrsil1/XC2...</td>\n",
       "    </tr>\n",
       "    <tr>\n",
       "      <th>4</th>\n",
       "      <td>afrsil1</td>\n",
       "      <td>[]</td>\n",
       "      <td>['flight call']</td>\n",
       "      <td>21.4581</td>\n",
       "      <td>-157.7252</td>\n",
       "      <td>Euodice cantans</td>\n",
       "      <td>African Silverbill</td>\n",
       "      <td>Ross Gallardy</td>\n",
       "      <td>Creative Commons Attribution-NonCommercial-Sha...</td>\n",
       "      <td>3.0</td>\n",
       "      <td>16:30</td>\n",
       "      <td>https://www.xeno-canto.org/207431</td>\n",
       "      <td>afrsil1/XC207431.ogg</td>\n",
       "      <td>../input/birdclef-2022/train_audio/afrsil1/XC2...</td>\n",
       "    </tr>\n",
       "  </tbody>\n",
       "</table>\n",
       "</div>"
      ],
      "text/plain": [
       "  primary_label                secondary_labels                     type  \\\n",
       "0       afrsil1                              []  ['call', 'flight call']   \n",
       "1       afrsil1  ['houspa', 'redava', 'zebdov']                 ['call']   \n",
       "2       afrsil1                              []         ['call', 'song']   \n",
       "3       afrsil1                              []   ['alarm call', 'call']   \n",
       "4       afrsil1                              []          ['flight call']   \n",
       "\n",
       "   latitude  longitude  scientific_name         common_name          author  \\\n",
       "0   12.3910    -1.4930  Euodice cantans  African Silverbill       Bram Piot   \n",
       "1   19.8801  -155.7254  Euodice cantans  African Silverbill        Dan Lane   \n",
       "2   16.2901   -16.0321  Euodice cantans  African Silverbill       Bram Piot   \n",
       "3   17.0922    54.2958  Euodice cantans  African Silverbill  Oscar Campbell   \n",
       "4   21.4581  -157.7252  Euodice cantans  African Silverbill   Ross Gallardy   \n",
       "\n",
       "                                             license  rating   time  \\\n",
       "0  Creative Commons Attribution-NonCommercial-Sha...     2.5  08:00   \n",
       "1  Creative Commons Attribution-NonCommercial-Sha...     3.5  08:30   \n",
       "2  Creative Commons Attribution-NonCommercial-Sha...     4.0  11:30   \n",
       "3  Creative Commons Attribution-NonCommercial-Sha...     4.0  11:00   \n",
       "4  Creative Commons Attribution-NonCommercial-Sha...     3.0  16:30   \n",
       "\n",
       "                                 url              filename  \\\n",
       "0  https://www.xeno-canto.org/125458  afrsil1/XC125458.ogg   \n",
       "1  https://www.xeno-canto.org/175522  afrsil1/XC175522.ogg   \n",
       "2  https://www.xeno-canto.org/177993  afrsil1/XC177993.ogg   \n",
       "3  https://www.xeno-canto.org/205893  afrsil1/XC205893.ogg   \n",
       "4  https://www.xeno-canto.org/207431  afrsil1/XC207431.ogg   \n",
       "\n",
       "                                           file_path  \n",
       "0  ../input/birdclef-2022/train_audio/afrsil1/XC1...  \n",
       "1  ../input/birdclef-2022/train_audio/afrsil1/XC1...  \n",
       "2  ../input/birdclef-2022/train_audio/afrsil1/XC1...  \n",
       "3  ../input/birdclef-2022/train_audio/afrsil1/XC2...  \n",
       "4  ../input/birdclef-2022/train_audio/afrsil1/XC2...  "
      ]
     },
     "execution_count": 19,
     "metadata": {},
     "output_type": "execute_result"
    }
   ],
   "source": [
    "df = pd.read_csv(f\"{ROOT_DIR}/train_metadata.csv\")\n",
    "df['file_path'] = df['filename'].apply(get_train_file_path)\n",
    "df.head()"
   ]
  },
  {
   "cell_type": "markdown",
   "metadata": {},
   "source": [
    "## Visualize images"
   ]
  },
  {
   "cell_type": "code",
   "execution_count": 25,
   "metadata": {},
   "outputs": [
    {
     "data": {
      "text/html": [
       "Tracking run with wandb version 0.12.17"
      ],
      "text/plain": [
       "<IPython.core.display.HTML object>"
      ]
     },
     "metadata": {},
     "output_type": "display_data"
    },
    {
     "data": {
      "text/html": [
       "Run data is saved locally in <code>/home/skang/Documents/kaggle/bird_clef/notebook/wandb/run-20220527_234401-fy1larv6</code>"
      ],
      "text/plain": [
       "<IPython.core.display.HTML object>"
      ]
     },
     "metadata": {},
     "output_type": "display_data"
    },
    {
     "data": {
      "text/html": [
       "Syncing run <strong><a href=\"https://wandb.ai/hgyoon0928/BirdCLEF22/runs/fy1larv6\" target=\"_blank\">Audio Visualization</a></strong> to <a href=\"https://wandb.ai/hgyoon0928/BirdCLEF22\" target=\"_blank\">Weights & Biases</a> (<a href=\"https://wandb.me/run\" target=\"_blank\">docs</a>)<br/>"
      ],
      "text/plain": [
       "<IPython.core.display.HTML object>"
      ]
     },
     "metadata": {},
     "output_type": "display_data"
    }
   ],
   "source": [
    "run = wandb.init(project=CONFIG['competition'],\n",
    "                 job_type='Visualization',\n",
    "                 name='Audio Visualization',\n",
    "                 )"
   ]
  },
  {
   "cell_type": "code",
   "execution_count": 26,
   "metadata": {},
   "outputs": [
    {
     "name": "stderr",
     "output_type": "stream",
     "text": [
      "100%|█| 5000/5000\n"
     ]
    },
    {
     "data": {
      "text/html": [
       "Waiting for W&B process to finish... <strong style=\"color:green\">(success).</strong>"
      ],
      "text/plain": [
       "<IPython.core.display.HTML object>"
      ]
     },
     "metadata": {},
     "output_type": "display_data"
    },
    {
     "data": {
      "application/vnd.jupyter.widget-view+json": {
       "model_id": "6002abb026aa43f6a2ae103091a2ef42",
       "version_major": 2,
       "version_minor": 0
      },
      "text/plain": [
       "VBox(children=(Label(value='2058.283 MB of 2058.450 MB uploaded (0.000 MB deduped)\\r'), FloatProgress(value=0.…"
      ]
     },
     "metadata": {},
     "output_type": "display_data"
    },
    {
     "data": {
      "text/html": [
       "Synced <strong style=\"color:#cdcd00\">Audio Visualization</strong>: <a href=\"https://wandb.ai/hgyoon0928/BirdCLEF22/runs/fy1larv6\" target=\"_blank\">https://wandb.ai/hgyoon0928/BirdCLEF22/runs/fy1larv6</a><br/>Synced 6 W&B file(s), 1 media file(s), 5001 artifact file(s) and 0 other file(s)"
      ],
      "text/plain": [
       "<IPython.core.display.HTML object>"
      ]
     },
     "metadata": {},
     "output_type": "display_data"
    },
    {
     "data": {
      "text/html": [
       "Find logs at: <code>./wandb/run-20220527_234401-fy1larv6/logs</code>"
      ],
      "text/plain": [
       "<IPython.core.display.HTML object>"
      ]
     },
     "metadata": {},
     "output_type": "display_data"
    }
   ],
   "source": [
    "preview_table = wandb.Table(columns=['Audio', 'Label', 'Rating', 'Time'])\n",
    "\n",
    "temp_df = df.sample(5000).reset_index(drop=True)\n",
    "\n",
    "for i in tqdm(range(len(temp_df))):\n",
    "    row = temp_df.loc[i]\n",
    "    audio = wandb.Audio(row.file_path, sample_rate=CONFIG['sample_rate'])\n",
    "    preview_table.add_data(audio,\n",
    "                           row.primary_label,\n",
    "                           row.rating,\n",
    "                           row.time)\n",
    "\n",
    "wandb.log({'Visualization': preview_table})\n",
    "run.finish()"
   ]
  },
  {
   "cell_type": "markdown",
   "metadata": {},
   "source": [
    "인코더는 사용할 때마다 다르게 인코딩을 할 수 있으므로 재현성을 위하여 저장해둔다."
   ]
  },
  {
   "cell_type": "code",
   "execution_count": 28,
   "metadata": {},
   "outputs": [],
   "source": [
    "encoder = LabelEncoder()\n",
    "df['primary_label'] = encoder.fit_transform(df['primary_label'])\n",
    "\n",
    "with open('le.pkl', \"wb\") as fp:\n",
    "    joblib.dump(encoder, fp)"
   ]
  },
  {
   "cell_type": "markdown",
   "metadata": {},
   "source": [
    "# Create folds"
   ]
  },
  {
   "cell_type": "markdown",
   "metadata": {},
   "source": [
    "각 새 종류가 train, val에 적절한 비율로 들어가도록 하기 위해 `StratifiedKFold`를 이용한다."
   ]
  },
  {
   "cell_type": "code",
   "execution_count": 29,
   "metadata": {},
   "outputs": [],
   "source": [
    "skf = StratifiedKFold(n_splits=CONFIG['n_fold'])\n",
    "\n",
    "for fold, ( _, val_) in enumerate(skf.split(X=df, y=df.primary_label)):\n",
    "      df.loc[val_ , \"kfold\"] = fold"
   ]
  },
  {
   "cell_type": "markdown",
   "metadata": {},
   "source": [
    "# Dataset Class"
   ]
  },
  {
   "cell_type": "code",
   "execution_count": 30,
   "metadata": {},
   "outputs": [
    {
     "data": {
      "text/plain": [
       "0        ../input/birdclef-2022/train_audio/afrsil1/XC1...\n",
       "1        ../input/birdclef-2022/train_audio/afrsil1/XC1...\n",
       "2        ../input/birdclef-2022/train_audio/afrsil1/XC1...\n",
       "3        ../input/birdclef-2022/train_audio/afrsil1/XC2...\n",
       "4        ../input/birdclef-2022/train_audio/afrsil1/XC2...\n",
       "                               ...                        \n",
       "14847    ../input/birdclef-2022/train_audio/zebdov/XC62...\n",
       "14848    ../input/birdclef-2022/train_audio/zebdov/XC64...\n",
       "14849    ../input/birdclef-2022/train_audio/zebdov/XC66...\n",
       "14850    ../input/birdclef-2022/train_audio/zebdov/XC66...\n",
       "14851    ../input/birdclef-2022/train_audio/zebdov/XC66...\n",
       "Name: file_path, Length: 14852, dtype: object"
      ]
     },
     "execution_count": 30,
     "metadata": {},
     "output_type": "execute_result"
    }
   ],
   "source": [
    "df['file_path']"
   ]
  },
  {
   "cell_type": "code",
   "execution_count": 54,
   "metadata": {},
   "outputs": [],
   "source": [
    "class BirdCLEFDataset(Dataset):\n",
    "    def __init__(self, df, target_sample_rate, max_time, image_transforms=None):\n",
    "        self.file_paths = df['file_path'].values # 오디오 파일 경로\n",
    "        self.labels = df['primary_label'].values # 오디오 파일의 label(target)\n",
    "        self.target_sample_rate = target_sample_rate # 모델에 input으로 들어갈 파일의 sampling rate (오디오 파일마다 다를 수 있으므로 모델에 들어가기 전 맞춰준다.)\n",
    "        num_samples = target_sample_rate * max_time # 샘플의 전체 데이터 포인트 개수 (sr (data / time) * time(time))\n",
    "        self.num_samples = num_samples \n",
    "        self.image_transforms = image_transforms \n",
    "        \n",
    "        \n",
    "    def __len__(self):\n",
    "        return len(self.file_paths)\n",
    "    \n",
    "    \n",
    "    def __getitem__(self, index):\n",
    "        filepath = self.file_paths[index] \n",
    "        audio, sample_rate = torchaudio.load(filepath) # torchaudio의 반환 결과 (sample, sample_rate)\n",
    "        audio = self.to_mono(audio) # 채널 수가 여러 개일 수 있으므로 평균을 통해 하나로 맞춰준다.\n",
    "        \n",
    "        if sample_rate != self.target_sample_rate:\n",
    "            resample = Resample(sample_rate, self.target_sample_rate) # 원본 데이터의 sampling rate가 모델의 것과 맞지 않을 경우 바꾸어준다.\n",
    "            audio = resample(audio)\n",
    "        \n",
    "        if audio.shape[0] > self.num_samples: # 오디오의 샘플 수가 max보다 클 경우 자른다. \n",
    "            audio = self.crop_audio(audio)\n",
    "            \n",
    "        if audio.shape[0] < self.num_samples: # 오디오가 짧을 경우 padding을 넣어준다.\n",
    "            audio = self.pad_audio(audio)\n",
    "            \n",
    "        mel_spectogram = MelSpectrogram(sample_rate=self.target_sample_rate, # mel스펙트로그램으로 변환\n",
    "                                        n_mels=CONFIG['n_mels'], \n",
    "                                        n_fft=CONFIG['n_fft'])\n",
    "        mel = mel_spectogram(audio)\n",
    "        label = torch.tensor(self.labels[index])\n",
    "        \n",
    "        # Convert to Image\n",
    "        image = torch.stack([mel, mel, mel]) # 사용하려는 사전 훈련 모델의 input차원이 3차원이므로 차원수를 3개로 늘린다.\n",
    "        \n",
    "        # Normalize Image\n",
    "        max_val = torch.abs(image).max() # 각 샘플의 max값을 나눠줌으로써 normalize\n",
    "        image = image / max_val \n",
    "        \n",
    "        return {\n",
    "            \"image\": image, \n",
    "            \"label\": label\n",
    "        }\n",
    "    \n",
    "    \n",
    "    def pad_audio(self, audio):\n",
    "        \"\"\"_summary_\n",
    "        길이가 짧은 오디오 샘플을 패딩(뒤쪽에 필요한 만큼 0을 추가한다.)\n",
    "\n",
    "        Args:\n",
    "            audio (torch.Tensor): 오디오 샘플 (1D, [length_of_samples])\n",
    "\n",
    "        Returns:\n",
    "            torch.Tensor: 패딩된 오디오 샘플 (1D, [self.num_samples])\n",
    "        \"\"\"\n",
    "        pad_length = self.num_samples - audio.shape[0]\n",
    "        last_dim_padding = (0, pad_length) # (pad_left, pad_right)\n",
    "        audio = F.pad(audio, last_dim_padding)\n",
    "        return audio\n",
    "    \n",
    "    \n",
    "    def crop_audio(self, audio):\n",
    "        \"\"\"_summary_\n",
    "        길이가 긴 audio sample을 자른다.(뒷부분을 자른다.)\n",
    "        Args:\n",
    "            audio (torch.Tensor): 오디오 샘플 (1D, [length_of_samples])\n",
    "\n",
    "        Returns:\n",
    "            torch.Tensor: 잘린 오디오 샘플 (1D, [self.num_samples])\n",
    "        \"\"\"\n",
    "        return audio[:self.num_samples]\n",
    "        \n",
    "    \n",
    "    def to_mono(self, audio):\n",
    "        return torch.mean(audio, axis=0)"
   ]
  },
  {
   "cell_type": "markdown",
   "metadata": {},
   "source": [
    "# GeM Pooling"
   ]
  },
  {
   "cell_type": "code",
   "execution_count": null,
   "metadata": {},
   "outputs": [],
   "source": [
    "class GeM(nn.Module):\n",
    "    def __init__(self, p=3, eps=1e-6):\n",
    "        super(GeM, self).__init__()\n",
    "        self.p = nn.Parameter(torch.ones(1)*p)\n",
    "        self.eps = eps\n",
    "\n",
    "    def forward(self, x):\n",
    "        return self.gem(x, p=self.p, eps=self.eps)\n",
    "        \n",
    "    def gem(self, x, p=3, eps=1e-6):\n",
    "        return F.avg_pool2d(x.clamp(min=eps).pow(p), (x.size(-2), x.size(-1))).pow(1./p)\n",
    "        \n",
    "    def __repr__(self):\n",
    "        return self.__class__.__name__ + \\\n",
    "                '(' + 'p=' + '{:.4f}'.format(self.p.data.tolist()[0]) + \\\n",
    "                ', ' + 'eps=' + str(self.eps) + ')'"
   ]
  }
 ],
 "metadata": {
  "kernelspec": {
   "display_name": "birdclef",
   "language": "python",
   "name": "birdclef"
  },
  "language_info": {
   "codemirror_mode": {
    "name": "ipython",
    "version": 3
   },
   "file_extension": ".py",
   "mimetype": "text/x-python",
   "name": "python",
   "nbconvert_exporter": "python",
   "pygments_lexer": "ipython3",
   "version": "3.8.13"
  },
  "orig_nbformat": 4
 },
 "nbformat": 4,
 "nbformat_minor": 2
}
