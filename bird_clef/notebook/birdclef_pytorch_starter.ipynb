{
 "cells": [
  {
   "cell_type": "markdown",
   "metadata": {},
   "source": [
    "# Import "
   ]
  },
  {
   "cell_type": "code",
   "execution_count": 20,
   "metadata": {},
   "outputs": [],
   "source": [
    "import os\n",
    "import json\n",
    "import tqdm\n",
    "import random\n",
    "import shutil\n",
    "import pandas as pd\n",
    "import numpy as np\n",
    "import torch\n",
    "import torch.optim as optim\n",
    "import torch.nn as nn\n",
    "from torch.utils.data import DataLoader\n",
    "import torchaudio\n",
    "import torchaudio.transforms as T\n",
    "from torchvision.models.resnet import ResNet, BasicBlock\n",
    "import seaborn as sns\n",
    "import matplotlib.pyplot as plt"
   ]
  },
  {
   "cell_type": "code",
   "execution_count": 21,
   "metadata": {},
   "outputs": [
    {
     "name": "stdout",
     "output_type": "stream",
     "text": [
      "Using cuda device\n"
     ]
    }
   ],
   "source": [
    "device = \"cuda\" if torch.cuda.is_available() else \"cpu\"\n",
    "print(f\"Using {device} device\")"
   ]
  },
  {
   "cell_type": "markdown",
   "metadata": {},
   "source": [
    "# Data Loading"
   ]
  },
  {
   "cell_type": "code",
   "execution_count": 22,
   "metadata": {},
   "outputs": [
    {
     "name": "stdout",
     "output_type": "stream",
     "text": [
      "/home/skang/Documents/kaggle/bird_clef/notebook\n"
     ]
    },
    {
     "data": {
      "text/plain": [
       "'/home/skang/Documents/kaggle/bird_clef/notebook'"
      ]
     },
     "execution_count": 22,
     "metadata": {},
     "output_type": "execute_result"
    }
   ],
   "source": [
    "%cd /home/skang/Documents/kaggle/bird_clef/notebook\n",
    "%pwd"
   ]
  },
  {
   "cell_type": "code",
   "execution_count": 23,
   "metadata": {},
   "outputs": [],
   "source": [
    "root_path = \"../input/birdclef-2022/\"\n",
    "input_path = root_path + '/train_audio/'\n",
    "out_path = \"./train/\"\n",
    "\n",
    "try:\n",
    "    os.mkdir(out_path)\n",
    "except FileExistsError:\n",
    "    pass\n",
    "\n",
    "\n",
    "train_meta = pd.read_csv(root_path + 'train_metadata.csv')\n",
    "\n",
    "with open(root_path + '/scored_birds.json') as sbfile:\n",
    "    scored_birds = json.load(sbfile)"
   ]
  },
  {
   "cell_type": "code",
   "execution_count": 24,
   "metadata": {},
   "outputs": [
    {
     "name": "stdout",
     "output_type": "stream",
     "text": [
      "['akiapo' 'aniani' 'apapan' 'barpet' 'crehon' 'elepai' 'ercfra' 'hawama'\n",
      " 'hawcre' 'hawgoo' 'hawhaw' 'hawpet1' 'houfin' 'iiwi' 'jabwar' 'maupar'\n",
      " 'omao' 'puaioh' 'skylar' 'warwhe1' 'yefcan']\n"
     ]
    }
   ],
   "source": [
    "train_meta = train_meta[train_meta['primary_label'].isin(scored_birds)]\n",
    "bird_label = train_meta[\"primary_label\"].unique()\n",
    "print(bird_label)"
   ]
  },
  {
   "cell_type": "markdown",
   "metadata": {},
   "source": [
    "## Utils"
   ]
  },
  {
   "cell_type": "code",
   "execution_count": 25,
   "metadata": {},
   "outputs": [],
   "source": [
    "sample_rate = 32000\n",
    "n_fft = 4096\n",
    "win_length = None\n",
    "hop_length = 512\n",
    "n_mels = 256\n",
    "min_sec_proc = sample_rate*5\n",
    "f_min = 1000\n",
    "f_max = 16000 \n",
    "\n",
    "mel_spectrogram = T.MelSpectrogram(\n",
    "    sample_rate=sample_rate,\n",
    "    n_fft=n_fft,\n",
    "    win_length=win_length,\n",
    "    hop_length=hop_length,\n",
    "    f_min=f_min,\n",
    "    f_max=f_max,\n",
    "    power=2.0,\n",
    "    n_mels=n_mels,\n",
    ")"
   ]
  },
  {
   "cell_type": "code",
   "execution_count": 26,
   "metadata": {},
   "outputs": [],
   "source": [
    "def torch_fix_seed(seed=42):\n",
    "    # Python random\n",
    "    random.seed(seed)\n",
    "    # Numpy\n",
    "    np.random.seed(seed)\n",
    "    # Pytorch\n",
    "    torch.manual_seed(seed)\n",
    "    torch.cuda.manual_seed(seed)\n",
    "    torch.backends.cudnn.deterministic = True\n",
    "    torch.use_deterministic_algorithms = True\n",
    "    \n",
    "\n",
    "def normalize_std(spec):\n",
    "    return (spec- torch.mean(spec))/torch.std(spec)\n",
    "\n",
    "\n",
    "def audio_to_mel_label(filepath, min_sec_proc, mode='train', data_index=0, label_list=[], bird_label=[], label_file=[], mel_list=[]):\n",
    "    if mode == 'train':\n",
    "        label_file_all = np.zeros(bird_label.shape)\n",
    "        for label_file_temp in label_file:\n",
    "            label_file_all += (label_file_temp == bird_label) # 배경에 포함되어 있는 새의 소리 중 중요 레이블에 포함된다면 그 또한 포함.\n",
    "        label_file_all = np.clip(label_file_all, 0, 1)\n",
    "    \n",
    "    waveform, sample_rate_file = torchaudio.load(filepath=filepath)\n",
    "    len_wav = waveform.shape[1]\n",
    "    waveform = waveform[0,:].reshape(1, len_wav) # stereo->mono mono->mono\n",
    "    if mode == 'train':\n",
    "        if len_wav < min_sec_proc:\n",
    "            for _ in range(round(min_sec_proc/len_wav)):\n",
    "                waveform = torch.cat((waveform,waveform[:,0:len_wav]),1)# 부족한 부분을 0이 아니라 시작을 반복하게 설정\n",
    "            len_wav = min_sec_proc\n",
    "            waveform = waveform[:,0:len_wav]\n",
    "    elif mode == 'test':\n",
    "        if not len_wav < min_sec_proc*12:\n",
    "            waveform = torch.cat((waveform,waveform[:,0:len_wav]),1)\n",
    "            len_wav = min_sec_proc*12\n",
    "            waveform = waveform[:,0:len_wav]\n",
    "\n",
    "    for index in range(int(len_wav/min_sec_proc)):\n",
    "        log_melspec = torch.log10(mel_spectrogram(waveform[0, index*min_sec_proc:index*min_sec_proc+min_sec_proc]).unsqueeze(0)+1e-10)\n",
    "        log_melspec = normalize_std(log_melspec)\n",
    "        if mode == 'train':\n",
    "            torch.save(log_melspec, out_path + str(data_index) + '.pt')  # pt파일로 저장\n",
    "            label_list.append(label_file_all)\n",
    "            data_index += 1\n",
    "        elif mode == 'test':\n",
    "            mel_list.append(log_melspec) # 테스트 파일은 별도 저장 x 그냥 불러오기\n",
    "            \n",
    "    if mode == 'train':\n",
    "        return data_index\n",
    "    elif mode == 'test':\n",
    "        return mel_list\n",
    "    \n",
    "    \n",
    "def load_tensor(path, file_name):\n",
    "    return torch.load(path + str(file_name) + '.pt')\n",
    "\n",
    "\n",
    "def get_X_y(path, idx, label_list):\n",
    "    batch_X = torch.stack([load_tensor(path, x.item()) for x in idx])\n",
    "    batch_y = torch.stack([label_list[x.item()] for x in idx])\n",
    "    return batch_X, batch_y\n",
    "\n",
    "\n",
    "def plot_history(history):\n",
    "    plt.figure(figsize=(10, 10)) \n",
    "    plt.plot(history[:,0], history[:,1], label='loss')\n",
    "    plt.plot(history[:,0], history[:,2], label='val_loss')\n",
    "    plt.xlabel('epoch')\n",
    "    plt.ylabel('loss')\n",
    "    plt.legend()\n",
    "    \n",
    "    \n",
    "def show_heatmap(df):\n",
    "    # make heatmap\n",
    "    heatmap = []\n",
    "\n",
    "    for idx, row in df.iterrows():\n",
    "        _, _, species, sec = row.row_id.split(\"_\")\n",
    "        if sec == \"5\":\n",
    "            sec = \"05\"\n",
    "        true_or_false = row.target\n",
    "        heatmap.append([species,sec,true_or_false])\n",
    "    \n",
    "    heatmap = pd.DataFrame(heatmap, columns=[\"species\", \"sec\", \"True_or_False\"])\n",
    "\n",
    "    # show heamap\n",
    "    fig,ax = plt.subplots(figsize=(10,5))\n",
    "    cmap = sns.color_palette(\"Blues\")\n",
    "    heatmap = heatmap.pivot(\"species\", \"sec\", \"True_or_False\")\n",
    "    sns.heatmap(heatmap,ax=ax,linecolor='k',lw=1,cmap=cmap)\n",
    "    plt.title(\"Prediction result in soundscape_453028782.ogg\")\n",
    "    plt.show()    \n",
    "    \n",
    "torch_fix_seed()"
   ]
  },
  {
   "cell_type": "markdown",
   "metadata": {},
   "source": [
    "# Save melspectorgram"
   ]
  },
  {
   "cell_type": "code",
   "execution_count": 27,
   "metadata": {},
   "outputs": [
    {
     "data": {
      "application/vnd.jupyter.widget-view+json": {
       "model_id": "9f0940a445da4822b10db2ce061abf7a",
       "version_major": 2,
       "version_minor": 0
      },
      "text/plain": [
       "  0%|          | 0/1266 [00:00<?, ?it/s]"
      ]
     },
     "metadata": {},
     "output_type": "display_data"
    },
    {
     "name": "stderr",
     "output_type": "stream",
     "text": [
      "/home/skang/.local/lib/python3.8/site-packages/torch/functional.py:515: UserWarning: stft will require the return_complex parameter be explicitly  specified in a future PyTorch release. Use return_complex=False  to preserve the current behavior or return_complex=True to return  a complex output. (Triggered internally at  /pytorch/aten/src/ATen/native/SpectralOps.cpp:653.)\n",
      "  return _VF.stft(input, n_fft, hop_length, win_length, window,  # type: ignore\n",
      "/home/skang/.local/lib/python3.8/site-packages/torch/functional.py:515: UserWarning: The function torch.rfft is deprecated and will be removed in a future PyTorch release. Use the new torch.fft module functions, instead, by importing torch.fft and calling torch.fft.fft or torch.fft.rfft. (Triggered internally at  /pytorch/aten/src/ATen/native/SpectralOps.cpp:590.)\n",
      "  return _VF.stft(input, n_fft, hop_length, win_length, window,  # type: ignore\n"
     ]
    }
   ],
   "source": [
    "data_index = 0\n",
    "label_list = []\n",
    "for pri_label, secon_label, f_name in zip(tqdm.notebook.tqdm(train_meta['primary_label']), train_meta['secondary_labels'],train_meta['filename']):\n",
    "    data_index = audio_to_mel_label(input_path+f_name, min_sec_proc,'train', data_index, label_list, bird_label, [pri_label] + eval(secon_label))\n",
    "\n",
    "torch.save(np.stack(label_list), out_path + 'label_list.pt')\n",
    "label_list = torch.from_numpy(np.stack(label_list)).clone()"
   ]
  },
  {
   "cell_type": "markdown",
   "metadata": {},
   "source": [
    "## Model"
   ]
  },
  {
   "cell_type": "code",
   "execution_count": 28,
   "metadata": {},
   "outputs": [],
   "source": [
    "n_output = len(bird_label)\n",
    "\n",
    "out_sigmoid = nn.Sigmoid()\n",
    "\n",
    "class ResNetBird(ResNet):\n",
    "    def __init__(self):\n",
    "        super().__init__(BasicBlock, [1, 4, 6, 3], num_classes=n_output)\n",
    "\n",
    "        self.conv1 = nn.Conv2d(1, 64, kernel_size=7, stride=1, padding=3, bias=False)\n",
    "\n",
    "        \n",
    "net = ResNetBird().to(device)"
   ]
  },
  {
   "cell_type": "code",
   "execution_count": 29,
   "metadata": {},
   "outputs": [],
   "source": [
    "transforms = torch.nn.Sequential(\n",
    "    torchaudio.transforms.FrequencyMasking(freq_mask_param=15),\n",
    "    torchaudio.transforms.TimeMasking(time_mask_param=20),\n",
    ")\n",
    "ComputeDeltas = torchaudio.transforms.ComputeDeltas(win_length= 5)\n",
    "\n",
    "def time_shift(melspec):\n",
    "    for i in range(melspec.shape[0]):\n",
    "        ii = int(np.random.randint(melspec.shape[3]/4, melspec.shape[3]/(4/3), (1)))\n",
    "        melspec[i,:,:,:] = torch.cat((melspec[i,:,:,ii:-1], melspec[i,:,:,0:ii+1]),2)\n",
    "    \n",
    "    return melspec"
   ]
  },
  {
   "cell_type": "markdown",
   "metadata": {},
   "source": [
    "## Data split"
   ]
  },
  {
   "cell_type": "code",
   "execution_count": 30,
   "metadata": {},
   "outputs": [],
   "source": [
    "train_idx = np.arange(0, label_list.shape[0])\n",
    "\n",
    "data_len = train_idx.shape[0]\n",
    "train_idx, val_idx = torch.utils.data.random_split(train_idx, [int(data_len*0.8), data_len-int(data_len*0.8)])"
   ]
  },
  {
   "cell_type": "markdown",
   "metadata": {},
   "source": [
    "# Train loop"
   ]
  },
  {
   "cell_type": "code",
   "execution_count": 31,
   "metadata": {},
   "outputs": [],
   "source": [
    "num_epochs = 50\n",
    "lr = 0.001\n",
    "batch_size = 16\n",
    "\n",
    "criterion = nn.BCEWithLogitsLoss()\n",
    "optimizer = optim.Adam(net.parameters(), lr=lr)\n",
    "history = np.zeros((0, 3))\n",
    "\n",
    "train_loader = DataLoader(train_idx, batch_size=batch_size, shuffle=True)\n",
    "val_loader = DataLoader(val_idx, batch_size=batch_size, shuffle=False)"
   ]
  },
  {
   "cell_type": "code",
   "execution_count": 32,
   "metadata": {},
   "outputs": [
    {
     "name": "stdout",
     "output_type": "stream",
     "text": [
      "Epoch [1/50], loss: 0.12583, val_loss: 0.15158\n",
      "Epoch [2/50], loss: 0.09577, val_loss: 0.09920\n",
      "Epoch [3/50], loss: 0.08113, val_loss: 0.06643\n",
      "Epoch [4/50], loss: 0.07101, val_loss: 0.06185\n",
      "Epoch [5/50], loss: 0.06270, val_loss: 0.05434\n",
      "Epoch [6/50], loss: 0.05604, val_loss: 0.04670\n",
      "Epoch [7/50], loss: 0.05005, val_loss: 0.05163\n",
      "Epoch [8/50], loss: 0.04510, val_loss: 0.04979\n",
      "Epoch [9/50], loss: 0.04135, val_loss: 0.04586\n",
      "Epoch [10/50], loss: 0.03680, val_loss: 0.03601\n",
      "Epoch [11/50], loss: 0.03304, val_loss: 0.03404\n",
      "Epoch [12/50], loss: 0.02941, val_loss: 0.03569\n",
      "Epoch [13/50], loss: 0.02448, val_loss: 0.03317\n",
      "Epoch [14/50], loss: 0.02216, val_loss: 0.02840\n",
      "Epoch [15/50], loss: 0.01959, val_loss: 0.02682\n",
      "Epoch [16/50], loss: 0.01613, val_loss: 0.02819\n",
      "Epoch [17/50], loss: 0.01351, val_loss: 0.02678\n",
      "Epoch [18/50], loss: 0.01233, val_loss: 0.02544\n",
      "Epoch [19/50], loss: 0.01096, val_loss: 0.02412\n",
      "Epoch [20/50], loss: 0.00943, val_loss: 0.03024\n",
      "Epoch [21/50], loss: 0.00714, val_loss: 0.03338\n",
      "Epoch [22/50], loss: 0.00868, val_loss: 0.03439\n",
      "Epoch [23/50], loss: 0.00786, val_loss: 0.02466\n",
      "Epoch [24/50], loss: 0.00586, val_loss: 0.02751\n",
      "Epoch [25/50], loss: 0.00588, val_loss: 0.02549\n",
      "Epoch [26/50], loss: 0.00482, val_loss: 0.02551\n",
      "Epoch [27/50], loss: 0.00598, val_loss: 0.03914\n",
      "Epoch [28/50], loss: 0.00417, val_loss: 0.02530\n",
      "Epoch [29/50], loss: 0.00442, val_loss: 0.03487\n",
      "Epoch [30/50], loss: 0.00406, val_loss: 0.02616\n",
      "Epoch [31/50], loss: 0.00386, val_loss: 0.02988\n",
      "Epoch [32/50], loss: 0.00360, val_loss: 0.03039\n",
      "Epoch [33/50], loss: 0.00489, val_loss: 0.02459\n",
      "Epoch [34/50], loss: 0.00213, val_loss: 0.02813\n",
      "Epoch [35/50], loss: 0.00408, val_loss: 0.02771\n",
      "Epoch [36/50], loss: 0.00202, val_loss: 0.03113\n",
      "Epoch [37/50], loss: 0.00566, val_loss: 0.02774\n",
      "Epoch [38/50], loss: 0.00267, val_loss: 0.03426\n",
      "Epoch [39/50], loss: 0.00484, val_loss: 0.03179\n",
      "Epoch [40/50], loss: 0.00159, val_loss: 0.02376\n",
      "Epoch [41/50], loss: 0.00299, val_loss: 0.03142\n",
      "Epoch [42/50], loss: 0.00141, val_loss: 0.03121\n",
      "Epoch [43/50], loss: 0.00340, val_loss: 0.02910\n",
      "Epoch [44/50], loss: 0.00364, val_loss: 0.03031\n",
      "Epoch [45/50], loss: 0.00193, val_loss: 0.02958\n",
      "Epoch [46/50], loss: 0.00279, val_loss: 0.03030\n",
      "Epoch [47/50], loss: 0.00135, val_loss: 0.02867\n",
      "Epoch [48/50], loss: 0.00302, val_loss: 0.02611\n",
      "Epoch [49/50], loss: 0.00193, val_loss: 0.03208\n",
      "Epoch [50/50], loss: 0.00225, val_loss: 0.02546\n"
     ]
    },
    {
     "data": {
      "image/png": "[encoded data removed]",
      "text/plain": [
       "<Figure size 720x720 with 1 Axes>"
      ]
     },
     "metadata": {
      "needs_background": "light"
     },
     "output_type": "display_data"
    }
   ],
   "source": [
    "for epoch in range(num_epochs):\n",
    "    train_loss, val_loss = 0, 0\n",
    "    n_train, n_val = 0, 0\n",
    "\n",
    "    net.train()\n",
    "    for idx in train_loader:\n",
    "        inputs, labels = get_X_y(out_path, idx, label_list)\n",
    "        \n",
    "        n_train += len(labels)\n",
    "        \n",
    "        inputs = inputs.to(device)\n",
    "        labels = labels.to(device)\n",
    "\n",
    "        optimizer.zero_grad()\n",
    "        outputs = net(inputs)\n",
    "        loss = criterion(outputs, labels)\n",
    "        loss.backward()\n",
    "        optimizer.step()\n",
    "        train_loss += loss.item()\n",
    "\n",
    "    net.eval()\n",
    "    with torch.no_grad():\n",
    "        for idx in val_loader:\n",
    "            inputs_val, labels_val = get_X_y(out_path, idx, label_list)\n",
    "            n_val += len(labels)\n",
    "\n",
    "            inputs_val = inputs_val.to(device)\n",
    "            labels_val = labels_val.to(device)\n",
    "\n",
    "            outputs_val = net(inputs_val)\n",
    "\n",
    "            loss_val = criterion(outputs_val, labels_val)\n",
    "\n",
    "            val_loss += loss_val.item()\n",
    "    \n",
    "\n",
    "    train_loss = train_loss * batch_size / n_train\n",
    "    val_loss = val_loss * batch_size / n_val\n",
    "    print (f'Epoch [{(epoch+1)}/{num_epochs}], loss: {train_loss:.5f}, val_loss: {val_loss:.5f}')\n",
    "    item = np.array([epoch+1, train_loss, val_loss])\n",
    "    history = np.vstack((history, item))\n",
    "\n",
    "torch.save(net.state_dict(), 'model.pt')\n",
    "plot_history(history)"
   ]
  },
  {
   "cell_type": "markdown",
   "metadata": {},
   "source": [
    "# Inference"
   ]
  },
  {
   "cell_type": "code",
   "execution_count": 33,
   "metadata": {},
   "outputs": [
    {
     "name": "stdout",
     "output_type": "stream",
     "text": [
      "Number of test soundscapes: 1\n"
     ]
    }
   ],
   "source": [
    "test_audio_dir = '../input/birdclef-2022/test_soundscapes/'\n",
    "file_list = [f.split('.')[0] for f in sorted(os.listdir(test_audio_dir))]\n",
    "\n",
    "print('Number of test soundscapes:', len(file_list))"
   ]
  },
  {
   "cell_type": "code",
   "execution_count": 34,
   "metadata": {},
   "outputs": [],
   "source": [
    "pred = {'row_id': [], 'target': []}\n",
    "binary_th = 0.30\n",
    "net.eval()\n",
    "\n",
    "for afile in file_list:\n",
    "    \n",
    "    path = test_audio_dir + afile + '.ogg'\n",
    "    \n",
    "    chunks = [[] for i in range(12)]\n",
    "    \n",
    "    mel_list_test = []\n",
    "    mel_list_test = audio_to_mel_label(path, min_sec_proc,'test', mel_list=mel_list_test)\n",
    "    mel_list_test = torch.stack(mel_list_test).to(device)\n",
    "    \n",
    "    outputs = net(mel_list_test)\n",
    "    \n",
    "    outputs_test = out_sigmoid(outputs)\n",
    "    \n",
    "    for idx, i in enumerate(range(len(chunks))):        \n",
    "        chunk_end_time = (i + 1) * 5\n",
    "        for bird in scored_birds:\n",
    "            \n",
    "            try:\n",
    "                score = outputs_test[idx][np.where(bird_label==bird)]\n",
    "            except IndexError:\n",
    "                score = 0\n",
    "            \n",
    "            row_id = afile + '_' + bird + '_' + str(chunk_end_time)\n",
    "            \n",
    "            pred['row_id'].append(row_id)\n",
    "            pred['target'].append(True if score > binary_th else False)"
   ]
  },
  {
   "cell_type": "markdown",
   "metadata": {},
   "source": [
    "# Submission"
   ]
  },
  {
   "cell_type": "code",
   "execution_count": 35,
   "metadata": {},
   "outputs": [
    {
     "name": "stdout",
     "output_type": "stream",
     "text": [
      "0      False\n",
      "1      False\n",
      "2      False\n",
      "3      False\n",
      "4      False\n",
      "       ...  \n",
      "247    False\n",
      "248    False\n",
      "249     True\n",
      "250    False\n",
      "251    False\n",
      "Name: target, Length: 252, dtype: bool\n"
     ]
    }
   ],
   "source": [
    "results = pd.DataFrame(pred, columns = ['row_id', 'target'])\n",
    "\n",
    "print(results['target']) \n",
    "    \n",
    "results.to_csv(\"submission.csv\", index=False)   "
   ]
  },
  {
   "cell_type": "code",
   "execution_count": 36,
   "metadata": {},
   "outputs": [
    {
     "data": {
      "image/png": "[encoded data removed]",
      "text/plain": [
       "<Figure size 720x360 with 2 Axes>"
      ]
     },
     "metadata": {
      "needs_background": "light"
     },
     "output_type": "display_data"
    }
   ],
   "source": [
    "show_heatmap(results)"
   ]
  }
 ],
 "metadata": {
  "kernelspec": {
   "display_name": "birdclef",
   "language": "python",
   "name": "birdclef"
  },
  "language_info": {
   "codemirror_mode": {
    "name": "ipython",
    "version": 3
   },
   "file_extension": ".py",
   "mimetype": "text/x-python",
   "name": "python",
   "nbconvert_exporter": "python",
   "pygments_lexer": "ipython3",
   "version": "3.8.13"
  },
  "orig_nbformat": 4
 },
 "nbformat": 4,
 "nbformat_minor": 2
}
